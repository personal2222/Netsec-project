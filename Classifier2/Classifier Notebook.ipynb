{
 "cells": [
  {
   "cell_type": "markdown",
   "metadata": {},
   "source": [
    "# Import Libraries"
   ]
  },
  {
   "cell_type": "code",
   "execution_count": 1,
   "metadata": {
    "collapsed": true
   },
   "outputs": [],
   "source": [
    "import re\n",
    "import json\n",
    "import whois\n",
    "import datetime\n",
    "import numpy as np\n",
    "from Cymon_API import *\n",
    "import tldextract as tld\n",
    "from urllib.parse import urlparse\n",
    "#from seolib import get_alexa\n",
    "#from googlesearch import search\n",
    "from joblib import dump, load"
   ]
  },
  {
   "cell_type": "code",
   "execution_count": 2,
   "metadata": {},
   "outputs": [
    {
     "name": "stderr",
     "output_type": "stream",
     "text": [
      "/Users/andysun/anaconda/lib/python3.5/site-packages/sklearn/ensemble/weight_boosting.py:29: DeprecationWarning: numpy.core.umath_tests is an internal NumPy module and should not be imported. It will be removed in a future NumPy release.\n",
      "  from numpy.core.umath_tests import inner1d\n"
     ]
    }
   ],
   "source": [
    "from sklearn.preprocessing import StandardScaler\n",
    "from sklearn.metrics import confusion_matrix\n",
    "from sklearn import tree\n",
    "from sklearn.svm import SVC\n",
    "from sklearn.neighbors import KNeighborsClassifier\n",
    "from sklearn.ensemble import RandomForestClassifier\n",
    "from sklearn.metrics import precision_recall_fscore_support\n",
    "from sklearn.model_selection import GridSearchCV\n",
    "from sklearn.metrics import f1_score\n",
    "from sklearn.metrics import precision_recall_fscore_support\n",
    "from sklearn.model_selection import learning_curve\n",
    "from matplotlib import pyplot as plt\n",
    "import warnings; warnings.simplefilter('ignore')\n",
    "import itertools\n",
    "import graphviz "
   ]
  },
  {
   "cell_type": "markdown",
   "metadata": {},
   "source": [
    "# Define Functions"
   ]
  },
  {
   "cell_type": "code",
   "execution_count": 3,
   "metadata": {
    "collapsed": true
   },
   "outputs": [],
   "source": [
    "#Extract domain part of URL\n",
    "def getDomain(url):\n",
    "    t_url = tld.extract(url)\n",
    "    dm = t_url.domain\n",
    "    sdm = t_url.subdomain\n",
    "    sfx = t_url.suffix\n",
    "    if sdm == '':\n",
    "        domain = dm+'.'+sfx\n",
    "    else:\n",
    "        domain = sdm+'.'+dm+'.'+sfx\n",
    "    return domain\n",
    "\n",
    "#1.1.1 Check if url contains an IP address\n",
    "def is_ip(url):\n",
    "    finder = re.compile(r'\\d{1,3}\\.\\d{1,3}\\.\\d{1,3}\\.\\d{1,3}')\n",
    "    check = finder.search(url)\n",
    "    if check is not None:\n",
    "        return 1\n",
    "    return -1\n",
    "\n",
    "#1.1.2 Check if URL is too long\n",
    "def is_too_long(url):\n",
    "    if(len(url)<54):\n",
    "        return -1\n",
    "    if(len(url)>=75):\n",
    "        return 1\n",
    "    else:\n",
    "        return 0\n",
    "\n",
    "#1.1.3 Check if URL is shortened\n",
    "def is_shortened(url):\n",
    "    if('bit.ly' in url):\n",
    "        return 1\n",
    "    return -1\n",
    "\n",
    "#1.1.4 Check if URL contains @\n",
    "def has_at(url):\n",
    "    if('@' in url):\n",
    "        return 1\n",
    "    return -1\n",
    "\n",
    "#1.1.5 Check if URL contains redirect\n",
    "def has_redirect(url):\n",
    "    finder = re.compile(r'//')\n",
    "    fs = finder.search(url)\n",
    "    if fs is None:\n",
    "        return -1\n",
    "    else:\n",
    "        location = fs.end()\n",
    "        if(location >7):\n",
    "            return 1\n",
    "    return -1\n",
    "\n",
    "#1.1.6 Check if - is in domain name\n",
    "def has_dash(url):\n",
    "    extracted_url = tld.extract(url)\n",
    "    if('-' in extracted_url.domain or '-' in extracted_url.subdomain):\n",
    "        return 1\n",
    "    return -1\n",
    "\n",
    "#1.1.7 Check the number of subdomains\n",
    "def has_multi_subdomain(url):\n",
    "    finder = re.compile(r'www\\.')\n",
    "    url = finder.sub('',url)\n",
    "    t_url = tld.extract(url)\n",
    "    dm = t_url.domain\n",
    "    sdm = t_url.subdomain\n",
    "    dot_count = dm.count('.') + sdm.count('.') + (not sdm == '')+1\n",
    "    if(dot_count == 1):\n",
    "        return -1\n",
    "    if(dot_count>2):\n",
    "        return 1\n",
    "    else:\n",
    "        return 0\n",
    "\n",
    "#1.1.8 Check if URL uses HTTPS\n",
    "def has_https(url):\n",
    "    #Get https certificate\n",
    "    if 'https' in url:\n",
    "        return 1\n",
    "    return -1\n",
    "    \n",
    "#1.4.2, 1.4.1, 1.1.9 Check DNS record exists, age of domain, and time until expiration\n",
    "def domain_features(url):\n",
    "    out = [1,1,1]\n",
    "    try:\n",
    "        q = whois.query(getDomain(url))\n",
    "        if q is not None:\n",
    "            out[0] = -1\n",
    "            today = datetime.datetime.now()\n",
    "            creation_date = q.creation_date\n",
    "            if creation_date is None:\n",
    "                out[1] = 1\n",
    "            else:\n",
    "                age = (today-creation_date).days*1./365\n",
    "                if(age <= 0.5):\n",
    "                    out[1] = 1\n",
    "                else:\n",
    "                    out[1] = -1\n",
    "            expiration_date = q.expiration_date\n",
    "            if expiration_date is None:\n",
    "                out[2] = 1\n",
    "            else:\n",
    "                lifetime = (expiration_date-today).days*1./365\n",
    "                if(lifetime <= 1):\n",
    "                    out[2] = 1\n",
    "                else:\n",
    "                    out[2] = -1\n",
    "        else:\n",
    "            out = [1,1,1]\n",
    "    except:\n",
    "        out = [1,1,1]\n",
    "        \n",
    "    return out\n",
    "\n",
    "#1.4.2\n",
    "def webTraffic(url):\n",
    "    alexa_rank = seo.get_alexa(url)\n",
    "    if alexa_rank is None:\n",
    "        return 1\n",
    "    elif alexa_rank < 100000:\n",
    "        return -1\n",
    "    else:\n",
    "        return 0\n",
    "\n",
    "#1.4.4\n",
    "def googleIndex(url):\n",
    "    try:\n",
    "        result = search(url, num=1, stop=1, pause=2)\n",
    "        if len(list(result)) == 0:\n",
    "            return 1\n",
    "        else:\n",
    "            return -1\n",
    "    except:\n",
    "        return 1\n",
    "\n",
    "#1.4.7 Check if domain is blacklisted   \n",
    "def check_domain(url):\n",
    "    finder = re.compile(r'www\\.')\n",
    "    url = finder.sub('',url)\n",
    "    t_url = tld.extract(url)\n",
    "    dm = t_url.domain\n",
    "    sdm = t_url.subdomain\n",
    "    sfx = t_url.suffix\n",
    "    data = lookup_domain(sdm+'.'+dm+'.'+sfx)\n",
    "    if data == None:\n",
    "        return 1\n",
    "    elif len(data)>1:\n",
    "        return -1\n",
    "    else:\n",
    "        return 1\n",
    "\n",
    "#1.1.12 Check if https is in domain name\n",
    "def https_in_domain(url):\n",
    "    dm = getDomain(url)\n",
    "    if('https' in dm):\n",
    "        return 1\n",
    "    else:\n",
    "        return -1\n",
    "\n",
    "def getFeatures(url):\n",
    "    whois_features = domain_features(url)\n",
    "    features = [0]*13\n",
    "    features[0] = is_ip(url)                 #1.1.1\n",
    "    features[1] = is_too_long(url)           #1.1.2\n",
    "    features[2] = is_shortened(url)          #1.1.3\n",
    "    features[3] = has_at(url)                #1.1.4\n",
    "    features[4] = has_redirect(url)          #1.1.5\n",
    "    features[5] = has_dash(url)              #1.1.6\n",
    "    features[6] = has_multi_subdomain(url)   #1.1.7\n",
    "    features[7] = has_https(url)             #1.1.8\n",
    "    features[8] = whois_features[2]          #1.1.9\n",
    "    features[9] = https_in_domain(url)       #1.1.12\n",
    "    features[10] = whois_features[0]         #1.4.2\n",
    "    features[11] = whois_features[1]         #1.4.1\n",
    "    #features[11] = googleIndex(url)          #1.4.4\n",
    "    features[12] = check_domain(url)         #1.4.7\n",
    "    return features"
   ]
  },
  {
   "cell_type": "markdown",
   "metadata": {},
   "source": [
    "# Load UCI Dataset"
   ]
  },
  {
   "cell_type": "code",
   "execution_count": 4,
   "metadata": {},
   "outputs": [
    {
     "name": "stdout",
     "output_type": "stream",
     "text": [
      "Number of samples, Number of attributes\n",
      "11055 31 \n",
      "\n",
      "Training Set\n",
      "Number of negative examples\n",
      "0.4437\n",
      "Number of positive examples\n",
      "0.5563\n",
      "\n",
      "Test Set\n",
      "Number of negative examples\n",
      "0.448\n",
      "Number of positive examples\n",
      "0.552\n"
     ]
    }
   ],
   "source": [
    "data = []\n",
    "with open('phishing_data.txt','r') as phishing_file:\n",
    "    for counter,line in enumerate(phishing_file):\n",
    "        data.append([float(i) for i in line.rstrip('\\n').split(',')])\n",
    "        \n",
    "data = np.array(data)\n",
    "print('Number of samples, Number of attributes')\n",
    "print(len(data),len(data[0]),'\\n')\n",
    "\n",
    "nf = 9\n",
    "train_size = 10000\n",
    "test_size = 500\n",
    "a = np.arange(0,nf).astype(int)\n",
    "b = np.array([11,22,23,29]).astype(int)\n",
    "idx = np.concatenate((a,b))\n",
    "train = [data[0:train_size,idx],data[0:train_size,30]]\n",
    "test = [data[train_size+1:train_size+test_size+1,idx],data[train_size+1:train_size+test_size+1,30]]\n",
    "\n",
    "print('Training Set')\n",
    "print('Number of negative examples')\n",
    "print(np.sum(train[1]==-1)/len(train[1]))\n",
    "print('Number of positive examples')\n",
    "print(np.sum(train[1]==1)/len(train[1]))\n",
    "\n",
    "print('\\nTest Set')\n",
    "print('Number of negative examples')\n",
    "print(np.sum(test[1]==-1)/len(test[1]))\n",
    "print('Number of positive examples')\n",
    "print(np.sum(test[1]==1)/len(test[1]))"
   ]
  },
  {
   "cell_type": "markdown",
   "metadata": {},
   "source": [
    "# Train Classifiers"
   ]
  },
  {
   "cell_type": "code",
   "execution_count": 12,
   "metadata": {},
   "outputs": [
    {
     "name": "stdout",
     "output_type": "stream",
     "text": [
      "{'max_depth': 11}\n",
      "Score:  0.89\n",
      "Confusion:\n",
      " [[191  33]\n",
      " [ 22 254]]\n",
      "(0.8850174216027874, 0.9202898550724637, 0.9023090586145648, None)\n",
      "precision      recall        fscore\n"
     ]
    },
    {
     "data": {
      "image/png": "[encoded data removed]",
      "text/plain": [
       "<Figure size 432x288 with 1 Axes>"
      ]
     },
     "metadata": {},
     "output_type": "display_data"
    }
   ],
   "source": [
    "#Train decision tree\n",
    "clf = tree.DecisionTreeClassifier()\n",
    "parameters = {'max_depth':[1,2,3,4,5,6,7,8,9,10,11,12,13]}\n",
    "clf = GridSearchCV(clf, parameters, cv=5,scoring = 'f1')\n",
    "clf = clf.fit(train[0],train[1])\n",
    "score = clf.best_estimator_.score(test[0],test[1])\n",
    "print(clf.best_params_)\n",
    "print('Score: ',score)\n",
    "cm = confusion_matrix(test[1],clf.predict(test[0]))\n",
    "print('Confusion:\\n',cm)\n",
    "print(precision_recall_fscore_support(test[1],clf.best_estimator_.predict(test[0]), average='binary'))\n",
    "print('precision      recall        fscore')\n",
    "decision_tree_scores = clf.cv_results_\n",
    "dt = clf\n",
    "\n",
    "a = learning_curve(dt.best_estimator_,train[0],train[1],scoring = 'f1',cv = 5,train_sizes = np.linspace(0.1,1,5))\n",
    "plt.plot(a[0],np.mean(a[2],axis = 1))\n",
    "plt.plot(a[0],np.mean(a[1],axis = 1))\n",
    "plt.ylim([0,1])\n",
    "plt.ylabel('F1 Score')\n",
    "plt.xlabel('Training Size')\n",
    "plt.legend(['Validation','Training'])\n",
    "plt.show()"
   ]
  },
  {
   "cell_type": "code",
   "execution_count": 6,
   "metadata": {},
   "outputs": [
    {
     "name": "stdout",
     "output_type": "stream",
     "text": [
      "{'n_neighbors': 5}\n",
      "Score:  0.856\n",
      "Confusion:\n",
      " [[179  45]\n",
      " [ 27 249]]\n",
      "(0.8469387755102041, 0.9021739130434783, 0.8736842105263158, None)\n",
      "precision      recall        fscore\n"
     ]
    },
    {
     "data": {
      "image/png": "[encoded data removed]",
      "text/plain": [
       "<Figure size 432x288 with 1 Axes>"
      ]
     },
     "metadata": {},
     "output_type": "display_data"
    }
   ],
   "source": [
    "#Train knn\n",
    "clf = KNeighborsClassifier()\n",
    "parameters = {'n_neighbors':[1,5,50,100]}\n",
    "clf = GridSearchCV(clf, parameters, cv=5,scoring = 'f1')\n",
    "clf = clf.fit(train[0],train[1])\n",
    "score = clf.best_estimator_.score(test[0],test[1])\n",
    "print(clf.best_params_)\n",
    "print('Score: ',score)\n",
    "cm = confusion_matrix(test[1],clf.predict(test[0]))\n",
    "print('Confusion:\\n',cm)\n",
    "print(precision_recall_fscore_support(test[1],clf.best_estimator_.predict(test[0]), average='binary'))\n",
    "print('precision      recall        fscore')\n",
    "decision_tree_scores = clf.cv_results_\n",
    "dt = clf\n",
    "\n",
    "a = learning_curve(dt.best_estimator_,train[0],train[1],scoring = 'f1',cv = 5,train_sizes = np.linspace(0.1,1,5))\n",
    "plt.plot(a[0],np.mean(a[2],axis = 1))\n",
    "plt.plot(a[0],np.mean(a[1],axis = 1))\n",
    "plt.ylim([0,1])\n",
    "plt.ylabel('F1 Score')\n",
    "plt.xlabel('Training Size')\n",
    "plt.legend(['Testing','Training'])\n",
    "plt.show()"
   ]
  },
  {
   "cell_type": "code",
   "execution_count": 8,
   "metadata": {},
   "outputs": [
    {
     "name": "stdout",
     "output_type": "stream",
     "text": [
      "{'n_estimators': 100, 'max_depth': 6}\n",
      "Score:  0.922\n",
      "Confusion:\n",
      " [[203  21]\n",
      " [ 18 258]]\n",
      "(0.9247311827956989, 0.9347826086956522, 0.9297297297297297, None)\n",
      "precision      recall        fscore\n"
     ]
    },
    {
     "data": {
      "image/png": "[encoded data removed]",
      "text/plain": [
       "<Figure size 432x288 with 1 Axes>"
      ]
     },
     "metadata": {},
     "output_type": "display_data"
    }
   ],
   "source": [
    "#Train random forest\n",
    "clf = RandomForestClassifier()\n",
    "parameters = {'max_depth':[2,3,4,5,6],'n_estimators':[10,50,100,200]}\n",
    "clf = GridSearchCV(clf, parameters, cv=5,scoring = 'f1')\n",
    "clf = clf.fit(train[0],train[1])\n",
    "score = clf.best_estimator_.score(test[0],test[1])\n",
    "print(clf.best_params_)\n",
    "print('Score: ',score)\n",
    "cm = confusion_matrix(test[1],clf.predict(test[0]))\n",
    "print('Confusion:\\n',cm)\n",
    "print(precision_recall_fscore_support(test[1],clf.best_estimator_.predict(test[0]), average='binary'))\n",
    "print('precision      recall        fscore')\n",
    "decision_tree_scores = clf.cv_results_\n",
    "dt = clf\n",
    "\n",
    "a = learning_curve(clf.best_estimator_,train[0],train[1],scoring = 'f1',cv = 5,train_sizes = np.linspace(0.1,1,5))\n",
    "plt.plot(a[0],np.mean(a[2],axis = 1))\n",
    "plt.plot(a[0],np.mean(a[1],axis = 1))\n",
    "plt.ylim([0,1])\n",
    "plt.ylabel('F1 Score')\n",
    "plt.xlabel('Training Size')\n",
    "plt.legend(['Validation','Training'])\n",
    "plt.title('Random Forest Learning Curve')\n",
    "plt.show()"
   ]
  },
  {
   "cell_type": "code",
   "execution_count": 7,
   "metadata": {},
   "outputs": [
    {
     "name": "stdout",
     "output_type": "stream",
     "text": [
      "{'kernel': 'poly'}\n",
      "Score:  0.918\n",
      "Confusion:\n",
      " [[203  21]\n",
      " [ 20 256]]\n",
      "(0.924187725631769, 0.927536231884058, 0.925858951175407, None)\n",
      "precision      recall        fscore\n"
     ]
    },
    {
     "data": {
      "image/png": "[encoded data removed]",
      "text/plain": [
       "<Figure size 432x288 with 1 Axes>"
      ]
     },
     "metadata": {},
     "output_type": "display_data"
    }
   ],
   "source": [
    "#Train SVM\n",
    "clf = SVC()\n",
    "parameters = {'kernel':['poly','linear','sigmoid']}\n",
    "clf = GridSearchCV(clf, parameters, cv=5,scoring = 'f1')\n",
    "clf = clf.fit(train[0],train[1])\n",
    "score = clf.best_estimator_.score(test[0],test[1])\n",
    "print(clf.best_params_)\n",
    "print('Score: ',score)\n",
    "cm = confusion_matrix(test[1],clf.predict(test[0]))\n",
    "print('Confusion:\\n',cm)\n",
    "print(precision_recall_fscore_support(test[1],clf.best_estimator_.predict(test[0]), average='binary'))\n",
    "print('precision      recall        fscore')\n",
    "decision_tree_scores = clf.cv_results_\n",
    "\n",
    "a = learning_curve(dt.best_estimator_,train[0],train[1],scoring = 'f1',cv = 5,train_sizes = np.linspace(0.1,1,5))\n",
    "plt.plot(a[0],np.mean(a[2],axis = 1))\n",
    "plt.plot(a[0],np.mean(a[1],axis = 1))\n",
    "plt.ylim([0,1])\n",
    "plt.ylabel('F1 Score')\n",
    "plt.xlabel('Training Size')\n",
    "plt.legend(['Testing','Training'])\n",
    "plt.show()"
   ]
  },
  {
   "cell_type": "markdown",
   "metadata": {},
   "source": [
    "# Test UCI Trained Classifiers on Malware List and Alexa Top 500"
   ]
  },
  {
   "cell_type": "code",
   "execution_count": 9,
   "metadata": {},
   "outputs": [
    {
     "name": "stdout",
     "output_type": "stream",
     "text": [
      "0.543\n",
      "Confusion:\n",
      " [[494   6]\n",
      " [451  49]]\n",
      "\n",
      " Precision Recall Fscore\n",
      "(0.8909090909090909, 0.098, 0.17657657657657658, None)\n"
     ]
    }
   ],
   "source": [
    "bad_data = []\n",
    "label = []\n",
    "\n",
    "with open('bad_domains.txt','r') as phishing_file:\n",
    "    for counter,line in enumerate(phishing_file):\n",
    "        if(counter < 500):\n",
    "            bad_data.append(line.rstrip('\\n'))\n",
    "            label.append(1)\n",
    "\n",
    "with open('top500.csv','r') as phishing_file:\n",
    "    for counter,line in enumerate(phishing_file):\n",
    "        if(counter < 500):\n",
    "            bad_data.append(line.rstrip('\\n').split(',')[1])\n",
    "            label.append(-1)\n",
    "        \n",
    "td = []\n",
    "for c,v in enumerate(bad_data):\n",
    "    f = getFeatures(v)\n",
    "    td.append(f)\n",
    "    print(c,end='\\r')\n",
    "\n",
    "clf = dt\n",
    "td = np.array(td)\n",
    "score = clf.best_estimator_.score(td,label)\n",
    "print(score)\n",
    "\n",
    "cm = confusion_matrix(label,clf.predict(td))\n",
    "print('Confusion:\\n',cm)\n",
    "\n",
    "print('\\n Precision Recall Fscore')\n",
    "print(precision_recall_fscore_support(label,clf.best_estimator_.predict(td), average='binary'))"
   ]
  },
  {
   "cell_type": "markdown",
   "metadata": {},
   "source": [
    "# Load Malicious and Alexa Top 1 Million"
   ]
  },
  {
   "cell_type": "code",
   "execution_count": 14,
   "metadata": {
    "collapsed": true
   },
   "outputs": [],
   "source": [
    "mal = []\n",
    "with open('bad_domains.txt','r') as phishing_file:\n",
    "    for counter,line in enumerate(phishing_file):\n",
    "            mal.append(getDomain(line.rstrip('\\n')))\n",
    "\n",
    "alexa = []\n",
    "label = []\n",
    "with open('top-1m.csv','r') as phishing_file:\n",
    "    for counter,line in enumerate(phishing_file):\n",
    "        if(counter < 20000):\n",
    "            entry = line.rstrip('\\n').split(',')[1]\n",
    "            alexa.append(entry)\n",
    "            if entry in mal:\n",
    "                label.append(1)\n",
    "            else:\n",
    "                label.append(0)"
   ]
  },
  {
   "cell_type": "markdown",
   "metadata": {},
   "source": [
    "# Split Data and Get Features"
   ]
  },
  {
   "cell_type": "code",
   "execution_count": 16,
   "metadata": {},
   "outputs": [
    {
     "name": "stdout",
     "output_type": "stream",
     "text": [
      "19999\r"
     ]
    }
   ],
   "source": [
    "N = 10000\n",
    "nn = 0\n",
    "M = 1000\n",
    "mm = 0\n",
    "training = []\n",
    "count = 0\n",
    "for i in mal[0:N] + alexa[0:N-nn]:\n",
    "    print(count,end='\\r')\n",
    "    training.append(getFeatures(i))\n",
    "    count += 1\n",
    "tl = np.concatenate((np.zeros(N),np.ones(N-nn)))\n",
    "testing = []\n",
    "for i in mal[N:N+M] + alexa[N-nn:N-nn+M-mm]:\n",
    "    testing.append(getFeatures(i))\n",
    "tt = np.concatenate((np.zeros(M),np.ones(M-mm)))"
   ]
  },
  {
   "cell_type": "code",
   "execution_count": 17,
   "metadata": {},
   "outputs": [
    {
     "name": "stdout",
     "output_type": "stream",
     "text": [
      "{'n_estimators': 50, 'max_depth': 2}\n",
      "Score:  0.692\n",
      "Confusion:\n",
      " [[735 265]\n",
      " [351 649]]\n",
      "(0.7100656455142232, 0.649, 0.67816091954023, None)\n",
      "precision      recall        fscore\n"
     ]
    },
    {
     "data": {
      "image/png": "[encoded data removed]",
      "text/plain": [
       "<Figure size 432x288 with 1 Axes>"
      ]
     },
     "metadata": {},
     "output_type": "display_data"
    },
    {
     "data": {
      "text/plain": [
       "['AlexaDecisionTree.joblib']"
      ]
     },
     "execution_count": 17,
     "metadata": {},
     "output_type": "execute_result"
    }
   ],
   "source": [
    "# Train Classifier\n",
    "clf = RandomForestClassifier()\n",
    "parameters = {'max_depth':[2],'n_estimators':[50]}\n",
    "clf = GridSearchCV(clf, parameters, cv=5,scoring = 'f1')\n",
    "clf = clf.fit(training,tl)\n",
    "score = clf.best_estimator_.score(testing,tt)\n",
    "print(clf.best_params_)\n",
    "print('Score: ',score)\n",
    "cm = confusion_matrix(tt,clf.predict(testing))\n",
    "print('Confusion:\\n',cm)\n",
    "print(precision_recall_fscore_support(tt,clf.best_estimator_.predict(testing), average='binary'))\n",
    "print('precision      recall        fscore')\n",
    "decision_tree_scores = clf.cv_results_\n",
    "dt = clf\n",
    "\n",
    "a = learning_curve(dt.best_estimator_,training,tl,scoring = 'f1',cv = 5,train_sizes = np.linspace(0.1,1,5))\n",
    "plt.plot(a[0],np.mean(a[2],axis = 1))\n",
    "plt.plot(a[0],np.mean(a[1],axis = 1))\n",
    "plt.ylim([0,1])\n",
    "plt.ylabel('F1 Score')\n",
    "plt.xlabel('Training Size')\n",
    "plt.legend(['Validation','Training'])\n",
    "plt.title('Random Forest Learning Curve')\n",
    "plt.show()\n",
    "\n",
    "#dump(clf.best_estimator_, 'AlexaDecisionTree.joblib') \n",
    "#clf = load('AlexaDecisionTree.joblib') "
   ]
  },
  {
   "cell_type": "code",
   "execution_count": null,
   "metadata": {
    "collapsed": true
   },
   "outputs": [],
   "source": []
  }
 ],
 "metadata": {
  "kernelspec": {
   "display_name": "Python [Root]",
   "language": "python",
   "name": "Python [Root]"
  },
  "language_info": {
   "codemirror_mode": {
    "name": "ipython",
    "version": 3
   },
   "file_extension": ".py",
   "mimetype": "text/x-python",
   "name": "python",
   "nbconvert_exporter": "python",
   "pygments_lexer": "ipython3",
   "version": "3.5.6"
  }
 },
 "nbformat": 4,
 "nbformat_minor": 2
}
