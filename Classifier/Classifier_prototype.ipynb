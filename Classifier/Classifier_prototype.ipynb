{
 "cells": [
  {
   "cell_type": "code",
   "execution_count": 1,
   "metadata": {},
   "outputs": [],
   "source": [
    "import numpy as np\n",
    "import re\n",
    "import json\n",
    "from urllib.parse import urlparse\n",
    "import tldextract as tld\n",
    "from Cymon_API import *\n",
    "import whois\n",
    "import datetime\n",
    "import seolib as seo"
   ]
  },
  {
   "cell_type": "code",
   "execution_count": 8,
   "metadata": {
    "collapsed": true
   },
   "outputs": [],
   "source": [
    "def getDomain(url):\n",
    "    t_url = tld.extract(url)\n",
    "    dm = t_url.domain\n",
    "    sdm = t_url.subdomain\n",
    "    sfx = t_url.suffix\n",
    "    domain = sdm+'.'+dm+'.'+sfx\n",
    "    return domain\n",
    "\n",
    "def is_ip(url):\n",
    "    finder = re.compile(r'\\d{1,3}\\.\\d{1,3}\\.\\d{1,3}\\.\\d{1,3}')\n",
    "    check = finder.search(url)\n",
    "    if check is not None:\n",
    "        return 1\n",
    "    return -1\n",
    "\n",
    "def is_too_long(url):\n",
    "    if(len(url)<54):\n",
    "        return -1\n",
    "    if(len(url)>=75):\n",
    "        return 1\n",
    "    else:\n",
    "        return 0\n",
    "\n",
    "def is_shortened(url):\n",
    "    if('bit.ly' in url):\n",
    "        return 1\n",
    "    return -1\n",
    "\n",
    "def has_at(url):\n",
    "    if('@' in url):\n",
    "        return 1\n",
    "    return -1\n",
    "\n",
    "def has_redirect(url):\n",
    "    finder = re.compile(r'//')\n",
    "    fs = finder.search(url)\n",
    "    if fs is None:\n",
    "        return -1\n",
    "    else:\n",
    "        location = fs.end()\n",
    "        if(location >7):\n",
    "            return 1\n",
    "    return -1\n",
    "\n",
    "def has_dash(url):\n",
    "    extracted_url = tld.extract(url)\n",
    "    if('-' in extracted_url.domain or '-' in extracted_url.subdomain):\n",
    "        return 1\n",
    "    return -1\n",
    "\n",
    "def has_multi_subdomain(url):\n",
    "    finder = re.compile(r'www\\.')\n",
    "    url = finder.sub('',url)\n",
    "    t_url = tld.extract(url)\n",
    "    dm = t_url.domain\n",
    "    sdm = t_url.subdomain\n",
    "    dot_count = dm.count('.') + sdm.count('.') + (not sdm == '')+1\n",
    "    if(dot_count == 1):\n",
    "        return -1\n",
    "    if(dot_count>2):\n",
    "        return 1\n",
    "    else:\n",
    "        return 0\n",
    "    \n",
    "def has_https(url):\n",
    "    #Get https certificate\n",
    "    if 'https' in url:\n",
    "        return 1\n",
    "    return -1\n",
    "    \n",
    "def records_exist(url):\n",
    "    try:\n",
    "        q = whois.query(getDomain(url))\n",
    "        if q is not None:\n",
    "            return -1\n",
    "        else:\n",
    "            return 1\n",
    "    except:\n",
    "        return 1\n",
    "\n",
    "def domain_age(url):\n",
    "    try:\n",
    "        creation_date = whois.query(getDomain(url)).creation_date\n",
    "        age = datetime.datetime.now()-domain.creation_date.days*1./365\n",
    "        if(age <= 0.5):\n",
    "            return 1\n",
    "        else:\n",
    "            return -1\n",
    "    except:\n",
    "        return 1\n",
    "    \n",
    "def check_domain(url):\n",
    "    finder = re.compile(r'www\\.')\n",
    "    url = finder.sub('',url)\n",
    "    t_url = tld.extract(url)\n",
    "    dm = t_url.domain\n",
    "    sdm = t_url.subdomain\n",
    "    sfx = t_url.suffix\n",
    "    data = lookup_domain(sdm+'.'+dm+'.'+sfx)\n",
    "    if data == None:\n",
    "        return 1\n",
    "    elif len(data)>1:\n",
    "        return -1\n",
    "    else:\n",
    "        return 1\n",
    "\n",
    "def webTraffic(url):\n",
    "    alexa_rank = seo.get_alexa(url)\n",
    "    if alexa_rank is None:\n",
    "        return 1\n",
    "    elif alexa_rank < 100000:\n",
    "        return -1\n",
    "    else:\n",
    "        return 0\n",
    "    \n",
    "'''\n",
    "def registration_length(url):\n",
    "    #Check domain registration expires in >= 1 year\n",
    "    return False\n",
    "\n",
    "def check_favicon(url):\n",
    "    #Check if favicon is loaded from domain other than url\n",
    "    return False\n",
    "'''\n",
    "nf = 8\n",
    "def getFeatures(url):\n",
    "    features = [0]*11\n",
    "    features[0] = is_ip(url)\n",
    "    features[1] = is_too_long(url)\n",
    "    features[2] = is_shortened(url)\n",
    "    features[3] = has_at(url)\n",
    "    features[4] = has_redirect(url)\n",
    "    features[5] = has_dash(url)\n",
    "    features[6] = has_multi_subdomain(url)\n",
    "    features[7] = has_https(url)\n",
    "    features[8] = records_exist(url)\n",
    "    features[9] = domain_age(url)\n",
    "    features[10] = check_domain(url)\n",
    "    #features[8] = registration_length(url)\n",
    "    #features[9] = check_favicon(url)\n",
    "    return features"
   ]
  },
  {
   "cell_type": "code",
   "execution_count": 3,
   "metadata": {},
   "outputs": [
    {
     "name": "stdout",
     "output_type": "stream",
     "text": [
      "None\n"
     ]
    }
   ],
   "source": []
  },
  {
   "cell_type": "code",
   "execution_count": 9,
   "metadata": {},
   "outputs": [
    {
     "name": "stdout",
     "output_type": "stream",
     "text": [
      "11055 31\n",
      "0.4437\n",
      "0.5563\n",
      "Test good vs bad\n",
      "0.448\n",
      "0.552\n"
     ]
    }
   ],
   "source": [
    "import numpy as np\n",
    "from sklearn.preprocessing import StandardScaler\n",
    "from sklearn.metrics import confusion_matrix\n",
    "from sklearn.decomposition import PCA\n",
    "from sklearn import tree\n",
    "from sklearn import svm\n",
    "from sklearn.neighbors import KNeighborsClassifier\n",
    "from sklearn.neural_network import MLPClassifier\n",
    "from sklearn.ensemble import RandomForestClassifier\n",
    "from sklearn.metrics import precision_recall_fscore_support\n",
    "from sklearn.model_selection import GridSearchCV\n",
    "from sklearn.metrics import f1_score\n",
    "from sklearn.metrics import precision_recall_fscore_support\n",
    "from sklearn.model_selection import learning_curve\n",
    "from matplotlib import pyplot as plt\n",
    "import warnings; warnings.simplefilter('ignore')\n",
    "import itertools\n",
    "import graphviz \n",
    "\n",
    "data = []\n",
    "with open('phishing_data.txt','r') as phishing_file:\n",
    "    for counter,line in enumerate(phishing_file):\n",
    "        data.append([float(i) for i in line.rstrip('\\n').split(',')])\n",
    "        \n",
    "data = np.array(data)\n",
    "print(len(data),len(data[0]))\n",
    "\n",
    "train_size = 10000\n",
    "test_size = 500\n",
    "a = np.arange(0,nf).astype(int)\n",
    "b = np.array([23,24,29]).astype(int)\n",
    "idx = np.concatenate((a,b))\n",
    "train = [data[0:train_size,idx],data[0:train_size,30]]\n",
    "test = [data[train_size+1:train_size+test_size+1,idx],data[train_size+1:train_size+test_size+1,30]]\n",
    "#print(1-np.sum((test[1]/2)+0.5)/len(test[1]))\n",
    "#print(1-np.sum(data[:,30])/len(data))\n",
    "print(np.sum(train[1]==-1)/len(train[1]))\n",
    "print(np.sum(train[1]==1)/len(train[1]))\n",
    "print('Test good vs bad')\n",
    "print(np.sum(test[1]==-1)/len(test[1]))\n",
    "print(np.sum(test[1]==1)/len(test[1]))"
   ]
  },
  {
   "cell_type": "code",
   "execution_count": 10,
   "metadata": {},
   "outputs": [
    {
     "name": "stdout",
     "output_type": "stream",
     "text": [
      "{'min_samples_split': 3, 'max_depth': 2}\n",
      "Score:  0.922\n",
      "Confusion:\n",
      " [[203  21]\n",
      " [ 18 258]]\n",
      "(0.9247311827956989, 0.9347826086956522, 0.9297297297297297, None)\n",
      "precision      recall        fscore\n"
     ]
    },
    {
     "data": {
      "image/png": "[encoded data removed]",
      "text/plain": [
       "<Figure size 432x288 with 1 Axes>"
      ]
     },
     "metadata": {},
     "output_type": "display_data"
    }
   ],
   "source": [
    "clf = tree.DecisionTreeClassifier()\n",
    "parameters = {'max_depth':[1,2,3,4,5,6,7,8],'min_samples_split':[3,4,5,10,20,30,40,50]}\n",
    "clf = GridSearchCV(clf, parameters, cv=5,scoring = 'f1')\n",
    "clf = clf.fit(train[0],train[1])\n",
    "score = clf.best_estimator_.score(test[0],test[1])\n",
    "print(clf.best_params_)\n",
    "print('Score: ',score)\n",
    "cm = confusion_matrix(test[1],clf.predict(test[0]))\n",
    "print('Confusion:\\n',cm)\n",
    "print(precision_recall_fscore_support(test[1],clf.best_estimator_.predict(test[0]), average='binary'))\n",
    "print('precision      recall        fscore')\n",
    "decision_tree_scores = clf.cv_results_\n",
    "dt = clf\n",
    "\n",
    "a = learning_curve(dt.best_estimator_,train[0],train[1],scoring = 'f1',cv = 5,train_sizes = np.linspace(0.1,1,5))\n",
    "plt.plot(a[0],np.mean(a[2],axis = 1))\n",
    "plt.plot(a[0],np.mean(a[1],axis = 1))\n",
    "plt.ylim([0,1])\n",
    "plt.ylabel('F1 Score')\n",
    "plt.xlabel('Training Size')\n",
    "plt.legend(['Testing','Training'])\n",
    "plt.show()"
   ]
  },
  {
   "cell_type": "code",
   "execution_count": 167,
   "metadata": {},
   "outputs": [
    {
     "name": "stdout",
     "output_type": "stream",
     "text": [
      "{'n_estimators': 500, 'max_depth': 1}\n",
      "Score:  0.922\n",
      "Confusion:\n",
      " [[203  21]\n",
      " [ 18 258]]\n",
      "(0.9247311827956989, 0.9347826086956522, 0.9297297297297297, None)\n",
      "precision      recall        fscore\n"
     ]
    },
    {
     "data": {
      "image/png": "[encoded data removed]",
      "text/plain": [
       "<Figure size 432x288 with 1 Axes>"
      ]
     },
     "metadata": {},
     "output_type": "display_data"
    }
   ],
   "source": [
    "clf = RandomForestClassifier()\n",
    "parameters = {'max_depth':[1,2,3,4],'n_estimators':[5,20,100,500]}\n",
    "clf = GridSearchCV(clf, parameters, cv=5,scoring = 'f1')\n",
    "clf = clf.fit(train[0],train[1])\n",
    "score = clf.best_estimator_.score(test[0],test[1])\n",
    "print(clf.best_params_)\n",
    "print('Score: ',score)\n",
    "cm = confusion_matrix(test[1],clf.predict(test[0]))\n",
    "print('Confusion:\\n',cm)\n",
    "print(precision_recall_fscore_support(test[1],clf.best_estimator_.predict(test[0]), average='binary'))\n",
    "print('precision      recall        fscore')\n",
    "decision_tree_scores = clf.cv_results_\n",
    "dt = clf\n",
    "\n",
    "a = learning_curve(clf.best_estimator_,train[0],train[1],scoring = 'f1',cv = 5,train_sizes = np.linspace(0.1,1,5))\n",
    "plt.plot(a[0],np.mean(a[2],axis = 1))\n",
    "plt.plot(a[0],np.mean(a[1],axis = 1))\n",
    "plt.ylim([0,1])\n",
    "plt.ylabel('F1 Score')\n",
    "plt.xlabel('Training Size')\n",
    "plt.legend(['Testing','Training'])\n",
    "plt.show()"
   ]
  },
  {
   "cell_type": "code",
   "execution_count": 11,
   "metadata": {},
   "outputs": [
    {
     "name": "stdout",
     "output_type": "stream",
     "text": [
      "0.15833333333333333\n",
      "Confusion:\n",
      " [[ 89  11]\n",
      " [494   6]]\n"
     ]
    }
   ],
   "source": [
    "bad_data = []\n",
    "label = []\n",
    "\n",
    "with open('bad_domains.txt','r') as phishing_file:\n",
    "    for counter,line in enumerate(phishing_file):\n",
    "        if(counter < 100):\n",
    "            bad_data.append(line.rstrip('\\n'))\n",
    "            label.append(-1)\n",
    "\n",
    "with open('top500.csv','r') as phishing_file:\n",
    "    for counter,line in enumerate(phishing_file):\n",
    "        bad_data.append(line.rstrip('\\n').split(',')[1])\n",
    "        label.append(1)\n",
    "        \n",
    "td = []\n",
    "for c,v in enumerate(bad_data):\n",
    "    f = getFeatures(v)\n",
    "    td.append(f)\n",
    "    print(c,end='\\r')\n",
    "    \n",
    "score = clf.best_estimator_.score(td,label)\n",
    "print(score)\n",
    "\n",
    "cm = confusion_matrix(label,clf.predict(td))\n",
    "print('Confusion:\\n',cm)\n",
    "\n"
   ]
  },
  {
   "cell_type": "code",
   "execution_count": 13,
   "metadata": {},
   "outputs": [
    {
     "name": "stdout",
     "output_type": "stream",
     "text": [
      "[1.]\n"
     ]
    }
   ],
   "source": [
    "print(clf.best_estimator_.predict(np.array(getFeatures('https://www.sbnation.com')).reshape(1,-1)))\n",
    "\n"
   ]
  },
  {
   "cell_type": "code",
   "execution_count": 175,
   "metadata": {},
   "outputs": [
    {
     "name": "stdout",
     "output_type": "stream",
     "text": [
      "[False False False False  True  True False False  True False  True False\n",
      " False False  True False False False  True  True  True  True  True  True\n",
      "  True  True False  True  True  True  True  True  True  True False False\n",
      " False False  True  True]\n"
     ]
    }
   ],
   "source": [
    "#print(train[0][0:40])\n",
    "print(train[1][0:40] == 1)"
   ]
  },
  {
   "cell_type": "code",
   "execution_count": null,
   "metadata": {
    "collapsed": true
   },
   "outputs": [],
   "source": []
  },
  {
   "cell_type": "code",
   "execution_count": 36,
   "metadata": {},
   "outputs": [
    {
     "name": "stdout",
     "output_type": "stream",
     "text": [
      "[True, False, False, False, True, False, True, False, False, False, 0, 0, 0, 0, 0, 0, 0, 0, 0, 0, 0, 0, 0, 0, 0, 0, 0, 0, 0, 0]\n"
     ]
    }
   ],
   "source": [
    "url = 'https://www.malware.com//123.123.123.123'\n",
    "print(getFeatures(url))"
   ]
  },
  {
   "cell_type": "code",
   "execution_count": 53,
   "metadata": {},
   "outputs": [
    {
     "name": "stdout",
     "output_type": "stream",
     "text": [
      "[1, 2, 3, 4, 5, 6, 7, 8]\n"
     ]
    }
   ],
   "source": [
    "a = [1,2,3,4,5,6,7,8]\n",
    "print(a[0:8])"
   ]
  },
  {
   "cell_type": "code",
   "execution_count": null,
   "metadata": {
    "collapsed": true
   },
   "outputs": [],
   "source": []
  },
  {
   "cell_type": "code",
   "execution_count": 24,
   "metadata": {},
   "outputs": [
    {
     "name": "stdout",
     "output_type": "stream",
     "text": [
      "True\n",
      "{'name': 'hiepkute1970.zapto.org', 'updated': '2015-07-07T14:14:11Z', 'created': '2015-07-07T14:14:11Z', 'sources': ['malwr.com'], 'ips': ['https://cymon.io/api/nexus/v1/ip/42.115.158.45'], 'urls': []}\n"
     ]
    }
   ],
   "source": [
    "url = 'bit.ly/19D@XSk4'\n",
    "print('@' in url)\n",
    "print(lookup_domain('hiepkute1970.zapto.org'))"
   ]
  },
  {
   "cell_type": "code",
   "execution_count": 25,
   "metadata": {},
   "outputs": [
    {
     "name": "stdout",
     "output_type": "stream",
     "text": [
      "ExtractResult(subdomain='www.paypalsecure-2016.sucurecode524154241', domain='arita', suffix='ac.tz')\n"
     ]
    }
   ],
   "source": [
    "a = urlparse('https://docs.python.org/2/library/urlparse.html')\n",
    "print(tld.extract('http://www.paypalsecure-2016.sucurecode524154241.arita.ac.tz'))"
   ]
  },
  {
   "cell_type": "code",
   "execution_count": 47,
   "metadata": {},
   "outputs": [
    {
     "name": "stdout",
     "output_type": "stream",
     "text": [
      "True\n",
      "ExtractResult(subdomain='paypalsecure-2016.sucurecode524154241', domain='arita', suffix='ac.tz')\n"
     ]
    }
   ],
   "source": [
    "print(has_multi_subdomain('paypalsecure-2016.sucurecode524154241.arita.ac.tz'))\n",
    "print(tld.extract('paypalsecure-2016.sucurecode524154241.arita.ac.tz'))"
   ]
  },
  {
   "cell_type": "code",
   "execution_count": 221,
   "metadata": {},
   "outputs": [
    {
     "name": "stdout",
     "output_type": "stream",
     "text": [
      "1\n"
     ]
    }
   ],
   "source": [
    "print(check_domain('google.com'))"
   ]
  },
  {
   "cell_type": "code",
   "execution_count": 233,
   "metadata": {},
   "outputs": [
    {
     "name": "stdout",
     "output_type": "stream",
     "text": [
      "[1 2]\n"
     ]
    }
   ],
   "source": [
    "a = np.array([1,2,3,4,5,6])\n",
    "print(a[np.arange(0,2)])"
   ]
  },
  {
   "cell_type": "code",
   "execution_count": 301,
   "metadata": {},
   "outputs": [
    {
     "ename": "ValueError",
     "evalue": "Unknown date format: 'registrar: gandi sas'",
     "output_type": "error",
     "traceback": [
      "\u001b[0;31m---------------------------------------------------------------------------\u001b[0m",
      "\u001b[0;31mValueError\u001b[0m                                Traceback (most recent call last)",
      "\u001b[0;32m<ipython-input-301-cf87cd5a0c38>\u001b[0m in \u001b[0;36m<module>\u001b[0;34m()\u001b[0m\n\u001b[1;32m      1\u001b[0m \u001b[0murl\u001b[0m \u001b[0;34m=\u001b[0m \u001b[0;34m'dawnsworld.mysticalgateway.com'\u001b[0m\u001b[0;34m\u001b[0m\u001b[0m\n\u001b[1;32m      2\u001b[0m \u001b[0mt_url\u001b[0m \u001b[0;34m=\u001b[0m \u001b[0mtld\u001b[0m\u001b[0;34m.\u001b[0m\u001b[0mextract\u001b[0m\u001b[0;34m(\u001b[0m\u001b[0murl\u001b[0m\u001b[0;34m)\u001b[0m\u001b[0;34m\u001b[0m\u001b[0m\n\u001b[0;32m----> 3\u001b[0;31m \u001b[0mdomain\u001b[0m \u001b[0;34m=\u001b[0m \u001b[0mwhois\u001b[0m\u001b[0;34m.\u001b[0m\u001b[0mquery\u001b[0m\u001b[0;34m(\u001b[0m\u001b[0;34m'docs.python.org'\u001b[0m\u001b[0;34m)\u001b[0m\u001b[0;34m\u001b[0m\u001b[0m\n\u001b[0m\u001b[1;32m      4\u001b[0m \u001b[0mprint\u001b[0m\u001b[0;34m(\u001b[0m\u001b[0mdomain\u001b[0m\u001b[0;34m.\u001b[0m\u001b[0mcreation_date\u001b[0m\u001b[0;34m)\u001b[0m\u001b[0;34m\u001b[0m\u001b[0m\n\u001b[1;32m      5\u001b[0m \u001b[0mprint\u001b[0m\u001b[0;34m(\u001b[0m\u001b[0;34m(\u001b[0m\u001b[0mdatetime\u001b[0m\u001b[0;34m.\u001b[0m\u001b[0mdatetime\u001b[0m\u001b[0;34m.\u001b[0m\u001b[0mnow\u001b[0m\u001b[0;34m(\u001b[0m\u001b[0;34m)\u001b[0m\u001b[0;34m-\u001b[0m\u001b[0mdomain\u001b[0m\u001b[0;34m.\u001b[0m\u001b[0mcreation_date\u001b[0m\u001b[0;34m)\u001b[0m\u001b[0;34m.\u001b[0m\u001b[0mdays\u001b[0m\u001b[0;34m*\u001b[0m\u001b[0;36m1.\u001b[0m\u001b[0;34m/\u001b[0m\u001b[0;36m365\u001b[0m\u001b[0;34m)\u001b[0m\u001b[0;34m\u001b[0m\u001b[0m\n",
      "\u001b[0;32m/Users/andysun/anaconda/lib/python3.5/site-packages/whois/__init__.py\u001b[0m in \u001b[0;36mquery\u001b[0;34m(domain, force, cache_file, slow_down, ignore_returncode)\u001b[0m\n\u001b[1;32m     52\u001b[0m                 \u001b[0;32melse\u001b[0m\u001b[0;34m:\u001b[0m \u001b[0;32mbreak\u001b[0m\u001b[0;34m\u001b[0m\u001b[0m\n\u001b[1;32m     53\u001b[0m \u001b[0;34m\u001b[0m\u001b[0m\n\u001b[0;32m---> 54\u001b[0;31m         \u001b[0;32mreturn\u001b[0m \u001b[0mDomain\u001b[0m\u001b[0;34m(\u001b[0m\u001b[0mpd\u001b[0m\u001b[0;34m)\u001b[0m \u001b[0;32mif\u001b[0m \u001b[0mpd\u001b[0m\u001b[0;34m[\u001b[0m\u001b[0;34m'domain_name'\u001b[0m\u001b[0;34m]\u001b[0m\u001b[0;34m[\u001b[0m\u001b[0;36m0\u001b[0m\u001b[0;34m]\u001b[0m \u001b[0;32melse\u001b[0m \u001b[0;32mNone\u001b[0m\u001b[0;34m\u001b[0m\u001b[0m\n\u001b[0m\u001b[1;32m     55\u001b[0m \u001b[0;34m\u001b[0m\u001b[0m\n\u001b[1;32m     56\u001b[0m \u001b[0;34m\u001b[0m\u001b[0m\n",
      "\u001b[0;32m/Users/andysun/anaconda/lib/python3.5/site-packages/whois/_3_adjust.py\u001b[0m in \u001b[0;36m__init__\u001b[0;34m(self, data)\u001b[0m\n\u001b[1;32m     13\u001b[0m                 \u001b[0mself\u001b[0m\u001b[0;34m.\u001b[0m\u001b[0mregistrar\u001b[0m                  \u001b[0;34m=\u001b[0m \u001b[0mdata\u001b[0m\u001b[0;34m[\u001b[0m\u001b[0;34m'registrar'\u001b[0m\u001b[0;34m]\u001b[0m\u001b[0;34m[\u001b[0m\u001b[0;36m0\u001b[0m\u001b[0;34m]\u001b[0m\u001b[0;34m.\u001b[0m\u001b[0mstrip\u001b[0m\u001b[0;34m(\u001b[0m\u001b[0;34m)\u001b[0m\u001b[0;34m\u001b[0m\u001b[0m\n\u001b[1;32m     14\u001b[0m                 \u001b[0mself\u001b[0m\u001b[0;34m.\u001b[0m\u001b[0mcreation_date\u001b[0m              \u001b[0;34m=\u001b[0m \u001b[0mstr_to_date\u001b[0m\u001b[0;34m(\u001b[0m\u001b[0mdata\u001b[0m\u001b[0;34m[\u001b[0m\u001b[0;34m'creation_date'\u001b[0m\u001b[0;34m]\u001b[0m\u001b[0;34m[\u001b[0m\u001b[0;36m0\u001b[0m\u001b[0;34m]\u001b[0m\u001b[0;34m)\u001b[0m\u001b[0;34m\u001b[0m\u001b[0m\n\u001b[0;32m---> 15\u001b[0;31m                 \u001b[0mself\u001b[0m\u001b[0;34m.\u001b[0m\u001b[0mexpiration_date\u001b[0m    \u001b[0;34m=\u001b[0m \u001b[0mstr_to_date\u001b[0m\u001b[0;34m(\u001b[0m\u001b[0mdata\u001b[0m\u001b[0;34m[\u001b[0m\u001b[0;34m'expiration_date'\u001b[0m\u001b[0;34m]\u001b[0m\u001b[0;34m[\u001b[0m\u001b[0;36m0\u001b[0m\u001b[0;34m]\u001b[0m\u001b[0;34m)\u001b[0m\u001b[0;34m\u001b[0m\u001b[0m\n\u001b[0m\u001b[1;32m     16\u001b[0m                 \u001b[0mself\u001b[0m\u001b[0;34m.\u001b[0m\u001b[0mlast_updated\u001b[0m               \u001b[0;34m=\u001b[0m \u001b[0mstr_to_date\u001b[0m\u001b[0;34m(\u001b[0m\u001b[0mdata\u001b[0m\u001b[0;34m[\u001b[0m\u001b[0;34m'updated_date'\u001b[0m\u001b[0;34m]\u001b[0m\u001b[0;34m[\u001b[0m\u001b[0;36m0\u001b[0m\u001b[0;34m]\u001b[0m\u001b[0;34m)\u001b[0m\u001b[0;34m\u001b[0m\u001b[0m\n\u001b[1;32m     17\u001b[0m \u001b[0;34m\u001b[0m\u001b[0m\n",
      "\u001b[0;32m/Users/andysun/anaconda/lib/python3.5/site-packages/whois/_3_adjust.py\u001b[0m in \u001b[0;36mstr_to_date\u001b[0;34m(s)\u001b[0m\n\u001b[1;32m     86\u001b[0m                 \u001b[0;32mexcept\u001b[0m \u001b[0mValueError\u001b[0m \u001b[0;32mas\u001b[0m \u001b[0me\u001b[0m\u001b[0;34m:\u001b[0m \u001b[0;32mpass\u001b[0m\u001b[0;34m\u001b[0m\u001b[0m\n\u001b[1;32m     87\u001b[0m \u001b[0;34m\u001b[0m\u001b[0m\n\u001b[0;32m---> 88\u001b[0;31m         \u001b[0;32mraise\u001b[0m \u001b[0mValueError\u001b[0m\u001b[0;34m(\u001b[0m\u001b[0;34m\"Unknown date format: '%s'\"\u001b[0m \u001b[0;34m%\u001b[0m \u001b[0ms\u001b[0m\u001b[0;34m)\u001b[0m\u001b[0;34m\u001b[0m\u001b[0m\n\u001b[0m\u001b[1;32m     89\u001b[0m \u001b[0;34m\u001b[0m\u001b[0m\n\u001b[1;32m     90\u001b[0m \u001b[0;34m\u001b[0m\u001b[0m\n",
      "\u001b[0;31mValueError\u001b[0m: Unknown date format: 'registrar: gandi sas'"
     ]
    }
   ],
   "source": [
    "url = 'dawnsworld.mysticalgateway.com'\n",
    "t_url = tld.extract(url)\n",
    "domain = whois.query('docs.python.org')\n",
    "print(domain.creation_date)\n",
    "print((datetime.datetime.now()-domain.creation_date).days*1./365)"
   ]
  },
  {
   "cell_type": "code",
   "execution_count": 298,
   "metadata": {},
   "outputs": [
    {
     "name": "stdout",
     "output_type": "stream",
     "text": [
      "docs.python.org\n"
     ]
    }
   ],
   "source": [
    "print(getDomain('https://docs.python.org/2/library/urlparse.html'))"
   ]
  },
  {
   "cell_type": "code",
   "execution_count": null,
   "metadata": {
    "collapsed": true
   },
   "outputs": [],
   "source": []
  }
 ],
 "metadata": {
  "kernelspec": {
   "display_name": "Python 2",
   "language": "python",
   "name": "python2"
  },
  "language_info": {
   "codemirror_mode": {
    "name": "ipython",
    "version": 2
   },
   "file_extension": ".py",
   "mimetype": "text/x-python",
   "name": "python",
   "nbconvert_exporter": "python",
   "pygments_lexer": "ipython2",
   "version": "2.7.15"
  }
 },
 "nbformat": 4,
 "nbformat_minor": 2
}
