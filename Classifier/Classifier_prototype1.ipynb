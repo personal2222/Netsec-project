{
 "cells": [
  {
   "cell_type": "code",
   "execution_count": 2,
   "metadata": {},
   "outputs": [],
   "source": [
    "import re\n",
    "import json\n",
    "import whois\n",
    "import datetime\n",
    "import numpy as np\n",
    "from Cymon_API import *\n",
    "import tldextract as tld\n",
    "from urllib.parse import urlparse"
   ]
  },
  {
   "cell_type": "code",
   "execution_count": 3,
   "metadata": {},
   "outputs": [
    {
     "name": "stderr",
     "output_type": "stream",
     "text": [
      "/Users/andysun/anaconda/lib/python3.5/site-packages/sklearn/ensemble/weight_boosting.py:29: DeprecationWarning: numpy.core.umath_tests is an internal NumPy module and should not be imported. It will be removed in a future NumPy release.\n",
      "  from numpy.core.umath_tests import inner1d\n"
     ]
    }
   ],
   "source": [
    "from sklearn.preprocessing import StandardScaler\n",
    "from sklearn.metrics import confusion_matrix\n",
    "from sklearn.decomposition import PCA\n",
    "from sklearn import tree\n",
    "from sklearn import svm\n",
    "from sklearn.neighbors import KNeighborsClassifier\n",
    "from sklearn.neural_network import MLPClassifier\n",
    "from sklearn.ensemble import RandomForestClassifier\n",
    "from sklearn.metrics import precision_recall_fscore_support\n",
    "from sklearn.model_selection import GridSearchCV\n",
    "from sklearn.metrics import f1_score\n",
    "from sklearn.metrics import precision_recall_fscore_support\n",
    "from sklearn.model_selection import learning_curve\n",
    "from matplotlib import pyplot as plt\n",
    "import warnings; warnings.simplefilter('ignore')\n",
    "import itertools\n",
    "import graphviz "
   ]
  },
  {
   "cell_type": "code",
   "execution_count": 36,
   "metadata": {},
   "outputs": [],
   "source": [
    "#Extract domain part of URL\n",
    "def getDomain(url):\n",
    "    t_url = tld.extract(url)\n",
    "    dm = t_url.domain\n",
    "    sdm = t_url.subdomain\n",
    "    sfx = t_url.suffix\n",
    "    if sdm == '':\n",
    "        domain = dm+'.'+sfx\n",
    "    else:\n",
    "        domain = sdm+'.'+dm+'.'+sfx\n",
    "    return domain\n",
    "\n",
    "#1.1.1 Check if url contains an IP address\n",
    "def is_ip(url):\n",
    "    finder = re.compile(r'\\d{1,3}\\.\\d{1,3}\\.\\d{1,3}\\.\\d{1,3}')\n",
    "    check = finder.search(url)\n",
    "    if check is not None:\n",
    "        return 1\n",
    "    return -1\n",
    "\n",
    "#1.1.2 Check if URL is too long\n",
    "def is_too_long(url):\n",
    "    if(len(url)<54):\n",
    "        return -1\n",
    "    if(len(url)>=75):\n",
    "        return 1\n",
    "    else:\n",
    "        return 0\n",
    "\n",
    "#1.1.3 Check if URL is shortened\n",
    "def is_shortened(url):\n",
    "    if('bit.ly' in url):\n",
    "        return 1\n",
    "    return -1\n",
    "\n",
    "#1.1.4 Check if URL contains @\n",
    "def has_at(url):\n",
    "    if('@' in url):\n",
    "        return 1\n",
    "    return -1\n",
    "\n",
    "#1.1.5 Check if URL contains redirect\n",
    "def has_redirect(url):\n",
    "    finder = re.compile(r'//')\n",
    "    fs = finder.search(url)\n",
    "    if fs is None:\n",
    "        return -1\n",
    "    else:\n",
    "        location = fs.end()\n",
    "        if(location >7):\n",
    "            return 1\n",
    "    return -1\n",
    "\n",
    "#1.1.6 Check if - is in domain name\n",
    "def has_dash(url):\n",
    "    extracted_url = tld.extract(url)\n",
    "    if('-' in extracted_url.domain or '-' in extracted_url.subdomain):\n",
    "        return 1\n",
    "    return -1\n",
    "\n",
    "#1.1.7 Check the number of subdomains\n",
    "def has_multi_subdomain(url):\n",
    "    finder = re.compile(r'www\\.')\n",
    "    url = finder.sub('',url)\n",
    "    t_url = tld.extract(url)\n",
    "    dm = t_url.domain\n",
    "    sdm = t_url.subdomain\n",
    "    dot_count = dm.count('.') + sdm.count('.') + (not sdm == '')+1\n",
    "    if(dot_count == 1):\n",
    "        return -1\n",
    "    if(dot_count>2):\n",
    "        return 1\n",
    "    else:\n",
    "        return 0\n",
    "\n",
    "#1.1.8 Check if URL uses HTTPS\n",
    "def has_https(url):\n",
    "    #Get https certificate\n",
    "    if 'https' in url:\n",
    "        return 1\n",
    "    return -1\n",
    "    \n",
    "#1.4.2, 1.4.1, 1.1.9 Check DNS record exists, age of domain, and time until expiration\n",
    "def domain_features(url):\n",
    "    out = [1,1,1]\n",
    "    try:\n",
    "        q = whois.query(getDomain(url))\n",
    "        if q is not None:\n",
    "            out[0] = -1\n",
    "            today = datetime.datetime.now()\n",
    "            creation_date = q.creation_date\n",
    "            if creation_date is None:\n",
    "                out[1] = 1\n",
    "            else:\n",
    "                age = (today-creation_date).days*1./365\n",
    "                if(age <= 0.5):\n",
    "                    out[1] = 1\n",
    "                else:\n",
    "                    out[1] = -1\n",
    "            expiration_date = q.expiration_date\n",
    "            if expiration_date is None:\n",
    "                out[2] = 1\n",
    "            else:\n",
    "                lifetime = (expiration_date-today).days*1./365\n",
    "                if(lifetime <= 1):\n",
    "                    out[2] = 1\n",
    "                else:\n",
    "                    out[2] = -1\n",
    "        else:\n",
    "            out = [1,1,1]\n",
    "    except:\n",
    "        out = [1,1,1]\n",
    "        \n",
    "    return out\n",
    "\n",
    "#1.4.7 Check if domain is blacklisted   \n",
    "def check_domain(url):\n",
    "    finder = re.compile(r'www\\.')\n",
    "    url = finder.sub('',url)\n",
    "    t_url = tld.extract(url)\n",
    "    dm = t_url.domain\n",
    "    sdm = t_url.subdomain\n",
    "    sfx = t_url.suffix\n",
    "    data = lookup_domain(sdm+'.'+dm+'.'+sfx)\n",
    "    if data == None:\n",
    "        return 1\n",
    "    elif len(data)>1:\n",
    "        return -1\n",
    "    else:\n",
    "        return 1\n",
    "\n",
    "#1.1.12 Check if https is in domain name\n",
    "def https_in_domain(url):\n",
    "    dm = getDomain(url)\n",
    "    if('https' in dm):\n",
    "        return 1\n",
    "    else:\n",
    "        return -1\n",
    "\n",
    "def getFeatures(url):\n",
    "    whois_features = domain_features(url)\n",
    "    features = [0]*12\n",
    "    features[0] = is_ip(url)                 #1.1.1\n",
    "    features[1] = is_too_long(url)           #1.1.2\n",
    "    features[2] = is_shortened(url)          #1.1.3\n",
    "    features[3] = has_at(url)                #1.1.4\n",
    "    features[4] = has_redirect(url)          #1.1.5\n",
    "    features[5] = has_dash(url)              #1.1.6\n",
    "    features[6] = has_multi_subdomain(url)   #1.1.7\n",
    "    features[7] = has_https(url)             #1.1.8\n",
    "    #features[8] = whois_features[2]          #1.1.9\n",
    "    features[8] = https_in_domain(url)       #1.1.12\n",
    "    features[9] = whois_features[0]         #1.4.2\n",
    "    features[10] = whois_features[1]         #1.4.1\n",
    "    features[11] = check_domain(url)         #1.4.7\n",
    "    return features"
   ]
  },
  {
   "cell_type": "code",
   "execution_count": 20,
   "metadata": {},
   "outputs": [
    {
     "name": "stdout",
     "output_type": "stream",
     "text": [
      "Number of samples, Number of attributes\n",
      "11055 31 \n",
      "\n",
      "Training Set\n",
      "Number of negative examples\n",
      "0.4437\n",
      "Number of positive examples\n",
      "0.5563\n",
      "\n",
      "Test Set\n",
      "Number of negative examples\n",
      "0.448\n",
      "Number of positive examples\n",
      "0.552\n"
     ]
    }
   ],
   "source": [
    "data = []\n",
    "with open('phishing_data.txt','r') as phishing_file:\n",
    "    for counter,line in enumerate(phishing_file):\n",
    "        data.append([float(i) for i in line.rstrip('\\n').split(',')])\n",
    "        \n",
    "data = np.array(data)\n",
    "print('Number of samples, Number of attributes')\n",
    "print(len(data),len(data[0]),'\\n')\n",
    "\n",
    "nf = 8\n",
    "train_size = 10000\n",
    "test_size = 500\n",
    "a = np.arange(0,nf).astype(int)\n",
    "b = np.array([11,22,23,29]).astype(int)\n",
    "idx = np.concatenate((a,b))\n",
    "train = [data[0:train_size,idx],data[0:train_size,30]]\n",
    "test = [data[train_size+1:train_size+test_size+1,idx],data[train_size+1:train_size+test_size+1,30]]\n",
    "\n",
    "print('Training Set')\n",
    "print('Number of negative examples')\n",
    "print(np.sum(train[1]==-1)/len(train[1]))\n",
    "print('Number of positive examples')\n",
    "print(np.sum(train[1]==1)/len(train[1]))\n",
    "\n",
    "print('\\nTest Set')\n",
    "print('Number of negative examples')\n",
    "print(np.sum(test[1]==-1)/len(test[1]))\n",
    "print('Number of positive examples')\n",
    "print(np.sum(test[1]==1)/len(test[1]))"
   ]
  },
  {
   "cell_type": "code",
   "execution_count": 59,
   "metadata": {},
   "outputs": [
    {
     "name": "stdout",
     "output_type": "stream",
     "text": [
      "{'max_depth': 2}\n",
      "Score:  0.922\n",
      "Confusion:\n",
      " [[203  21]\n",
      " [ 18 258]]\n",
      "(0.9247311827956989, 0.9347826086956522, 0.9297297297297297, None)\n",
      "precision      recall        fscore\n"
     ]
    },
    {
     "data": {
      "image/png": "[encoded data removed]",
      "text/plain": [
       "<Figure size 432x288 with 1 Axes>"
      ]
     },
     "metadata": {},
     "output_type": "display_data"
    }
   ],
   "source": [
    "clf = tree.DecisionTreeClassifier()\n",
    "parameters = {'max_depth':[1,2,3,4,5,6,7,8,9,10,11,12,13]}\n",
    "clf = GridSearchCV(clf, parameters, cv=5,scoring = 'f1')\n",
    "clf = clf.fit(train[0],train[1])\n",
    "score = clf.best_estimator_.score(test[0],test[1])\n",
    "print(clf.best_params_)\n",
    "print('Score: ',score)\n",
    "cm = confusion_matrix(test[1],clf.predict(test[0]))\n",
    "print('Confusion:\\n',cm)\n",
    "print(precision_recall_fscore_support(test[1],clf.best_estimator_.predict(test[0]), average='binary'))\n",
    "print('precision      recall        fscore')\n",
    "decision_tree_scores = clf.cv_results_\n",
    "dt = clf\n",
    "\n",
    "a = learning_curve(dt.best_estimator_,train[0],train[1],scoring = 'f1',cv = 5,train_sizes = np.linspace(0.1,1,5))\n",
    "plt.plot(a[0],np.mean(a[2],axis = 1))\n",
    "plt.plot(a[0],np.mean(a[1],axis = 1))\n",
    "plt.ylim([0,1])\n",
    "plt.ylabel('F1 Score')\n",
    "plt.xlabel('Training Size')\n",
    "plt.legend(['Testing','Training'])\n",
    "plt.show()"
   ]
  },
  {
   "cell_type": "code",
   "execution_count": 47,
   "metadata": {},
   "outputs": [
    {
     "name": "stdout",
     "output_type": "stream",
     "text": [
      "{'n_neighbors': 3}\n",
      "Score:  0.844\n",
      "Confusion:\n",
      " [[164  60]\n",
      " [ 18 258]]\n",
      "(0.8113207547169812, 0.9347826086956522, 0.8686868686868686, None)\n",
      "precision      recall        fscore\n"
     ]
    },
    {
     "data": {
      "image/png": "[encoded data removed]",
      "text/plain": [
       "<Figure size 432x288 with 1 Axes>"
      ]
     },
     "metadata": {},
     "output_type": "display_data"
    }
   ],
   "source": [
    "clf = KNeighborsClassifier()\n",
    "parameters = {'n_neighbors':[3,5]}\n",
    "clf = GridSearchCV(clf, parameters, cv=5,scoring = 'f1')\n",
    "clf = clf.fit(train[0],train[1])\n",
    "score = clf.best_estimator_.score(test[0],test[1])\n",
    "print(clf.best_params_)\n",
    "print('Score: ',score)\n",
    "cm = confusion_matrix(test[1],clf.predict(test[0]))\n",
    "print('Confusion:\\n',cm)\n",
    "print(precision_recall_fscore_support(test[1],clf.best_estimator_.predict(test[0]), average='binary'))\n",
    "print('precision      recall        fscore')\n",
    "decision_tree_scores = clf.cv_results_\n",
    "dt = clf\n",
    "\n",
    "a = learning_curve(dt.best_estimator_,train[0],train[1],scoring = 'f1',cv = 5,train_sizes = np.linspace(0.1,1,5))\n",
    "plt.plot(a[0],np.mean(a[2],axis = 1))\n",
    "plt.plot(a[0],np.mean(a[1],axis = 1))\n",
    "plt.ylim([0,1])\n",
    "plt.ylabel('F1 Score')\n",
    "plt.xlabel('Training Size')\n",
    "plt.legend(['Testing','Training'])\n",
    "plt.show()"
   ]
  },
  {
   "cell_type": "code",
   "execution_count": 89,
   "metadata": {},
   "outputs": [
    {
     "ename": "KeyboardInterrupt",
     "evalue": "",
     "output_type": "error",
     "traceback": [
      "\u001b[0;31m---------------------------------------------------------------------------\u001b[0m",
      "\u001b[0;31mKeyboardInterrupt\u001b[0m                         Traceback (most recent call last)",
      "\u001b[0;32m<ipython-input-89-37ecbaef9850>\u001b[0m in \u001b[0;36m<module>\u001b[0;34m()\u001b[0m\n\u001b[1;32m      2\u001b[0m \u001b[0mparameters\u001b[0m \u001b[0;34m=\u001b[0m \u001b[0;34m{\u001b[0m\u001b[0;34m'alpha'\u001b[0m\u001b[0;34m:\u001b[0m\u001b[0;34m[\u001b[0m\u001b[0;36m.1\u001b[0m\u001b[0;34m,\u001b[0m\u001b[0;36m1\u001b[0m\u001b[0;34m,\u001b[0m\u001b[0;36m5\u001b[0m\u001b[0;34m]\u001b[0m\u001b[0;34m,\u001b[0m\u001b[0;34m'hidden_layer_sizes'\u001b[0m\u001b[0;34m:\u001b[0m \u001b[0;34m[\u001b[0m\u001b[0mx\u001b[0m \u001b[0;32mfor\u001b[0m \u001b[0mx\u001b[0m \u001b[0;32min\u001b[0m \u001b[0mitertools\u001b[0m\u001b[0;34m.\u001b[0m\u001b[0mproduct\u001b[0m\u001b[0;34m(\u001b[0m\u001b[0;34m(\u001b[0m\u001b[0;36m7\u001b[0m\u001b[0;34m,\u001b[0m\u001b[0;36m13\u001b[0m\u001b[0;34m,\u001b[0m\u001b[0;36m50\u001b[0m\u001b[0;34m)\u001b[0m\u001b[0;34m,\u001b[0m\u001b[0mrepeat\u001b[0m\u001b[0;34m=\u001b[0m\u001b[0;36m2\u001b[0m\u001b[0;34m)\u001b[0m\u001b[0;34m]\u001b[0m\u001b[0;34m,\u001b[0m\u001b[0;34m'learning_rate'\u001b[0m\u001b[0;34m:\u001b[0m\u001b[0;34m[\u001b[0m\u001b[0;34m'constant'\u001b[0m\u001b[0;34m,\u001b[0m\u001b[0;34m'invscaling'\u001b[0m\u001b[0;34m,\u001b[0m\u001b[0;34m'adaptive'\u001b[0m\u001b[0;34m]\u001b[0m\u001b[0;34m,\u001b[0m\u001b[0;34m'solver'\u001b[0m\u001b[0;34m:\u001b[0m\u001b[0;34m[\u001b[0m\u001b[0;34m'lbfgs'\u001b[0m\u001b[0;34m,\u001b[0m\u001b[0;34m'sgd'\u001b[0m\u001b[0;34m,\u001b[0m\u001b[0;34m'adam'\u001b[0m\u001b[0;34m]\u001b[0m\u001b[0;34m}\u001b[0m\u001b[0;34m\u001b[0m\u001b[0m\n\u001b[1;32m      3\u001b[0m \u001b[0mclf\u001b[0m \u001b[0;34m=\u001b[0m \u001b[0mGridSearchCV\u001b[0m\u001b[0;34m(\u001b[0m\u001b[0mclf\u001b[0m\u001b[0;34m,\u001b[0m \u001b[0mparameters\u001b[0m\u001b[0;34m,\u001b[0m \u001b[0mcv\u001b[0m\u001b[0;34m=\u001b[0m\u001b[0;36m5\u001b[0m\u001b[0;34m,\u001b[0m\u001b[0mscoring\u001b[0m \u001b[0;34m=\u001b[0m \u001b[0;34m'f1'\u001b[0m\u001b[0;34m)\u001b[0m\u001b[0;34m\u001b[0m\u001b[0m\n\u001b[0;32m----> 4\u001b[0;31m \u001b[0mclf\u001b[0m \u001b[0;34m=\u001b[0m \u001b[0mclf\u001b[0m\u001b[0;34m.\u001b[0m\u001b[0mfit\u001b[0m\u001b[0;34m(\u001b[0m\u001b[0mtrain\u001b[0m\u001b[0;34m[\u001b[0m\u001b[0;36m0\u001b[0m\u001b[0;34m]\u001b[0m\u001b[0;34m,\u001b[0m\u001b[0mtrain\u001b[0m\u001b[0;34m[\u001b[0m\u001b[0;36m1\u001b[0m\u001b[0;34m]\u001b[0m\u001b[0;34m)\u001b[0m\u001b[0;34m\u001b[0m\u001b[0m\n\u001b[0m\u001b[1;32m      5\u001b[0m \u001b[0mscore\u001b[0m \u001b[0;34m=\u001b[0m \u001b[0mclf\u001b[0m\u001b[0;34m.\u001b[0m\u001b[0mbest_estimator_\u001b[0m\u001b[0;34m.\u001b[0m\u001b[0mscore\u001b[0m\u001b[0;34m(\u001b[0m\u001b[0mtest\u001b[0m\u001b[0;34m[\u001b[0m\u001b[0;36m0\u001b[0m\u001b[0;34m]\u001b[0m\u001b[0;34m,\u001b[0m\u001b[0mtest\u001b[0m\u001b[0;34m[\u001b[0m\u001b[0;36m1\u001b[0m\u001b[0;34m]\u001b[0m\u001b[0;34m)\u001b[0m\u001b[0;34m\u001b[0m\u001b[0m\n\u001b[1;32m      6\u001b[0m \u001b[0mprint\u001b[0m\u001b[0;34m(\u001b[0m\u001b[0mclf\u001b[0m\u001b[0;34m.\u001b[0m\u001b[0mbest_params_\u001b[0m\u001b[0;34m)\u001b[0m\u001b[0;34m\u001b[0m\u001b[0m\n",
      "\u001b[0;32m/Users/andysun/anaconda/lib/python3.5/site-packages/sklearn/model_selection/_search.py\u001b[0m in \u001b[0;36mfit\u001b[0;34m(self, X, y, groups, **fit_params)\u001b[0m\n\u001b[1;32m    637\u001b[0m                                   error_score=self.error_score)\n\u001b[1;32m    638\u001b[0m           for parameters, (train, test) in product(candidate_params,\n\u001b[0;32m--> 639\u001b[0;31m                                                    cv.split(X, y, groups)))\n\u001b[0m\u001b[1;32m    640\u001b[0m \u001b[0;34m\u001b[0m\u001b[0m\n\u001b[1;32m    641\u001b[0m         \u001b[0;31m# if one choose to see train score, \"out\" will contain train score info\u001b[0m\u001b[0;34m\u001b[0m\u001b[0;34m\u001b[0m\u001b[0m\n",
      "\u001b[0;32m/Users/andysun/anaconda/lib/python3.5/site-packages/sklearn/externals/joblib/parallel.py\u001b[0m in \u001b[0;36m__call__\u001b[0;34m(self, iterable)\u001b[0m\n\u001b[1;32m    777\u001b[0m             \u001b[0;31m# was dispatched. In particular this covers the edge\u001b[0m\u001b[0;34m\u001b[0m\u001b[0;34m\u001b[0m\u001b[0m\n\u001b[1;32m    778\u001b[0m             \u001b[0;31m# case of Parallel used with an exhausted iterator.\u001b[0m\u001b[0;34m\u001b[0m\u001b[0;34m\u001b[0m\u001b[0m\n\u001b[0;32m--> 779\u001b[0;31m             \u001b[0;32mwhile\u001b[0m \u001b[0mself\u001b[0m\u001b[0;34m.\u001b[0m\u001b[0mdispatch_one_batch\u001b[0m\u001b[0;34m(\u001b[0m\u001b[0miterator\u001b[0m\u001b[0;34m)\u001b[0m\u001b[0;34m:\u001b[0m\u001b[0;34m\u001b[0m\u001b[0m\n\u001b[0m\u001b[1;32m    780\u001b[0m                 \u001b[0mself\u001b[0m\u001b[0;34m.\u001b[0m\u001b[0m_iterating\u001b[0m \u001b[0;34m=\u001b[0m \u001b[0;32mTrue\u001b[0m\u001b[0;34m\u001b[0m\u001b[0m\n\u001b[1;32m    781\u001b[0m             \u001b[0;32melse\u001b[0m\u001b[0;34m:\u001b[0m\u001b[0;34m\u001b[0m\u001b[0m\n",
      "\u001b[0;32m/Users/andysun/anaconda/lib/python3.5/site-packages/sklearn/externals/joblib/parallel.py\u001b[0m in \u001b[0;36mdispatch_one_batch\u001b[0;34m(self, iterator)\u001b[0m\n\u001b[1;32m    623\u001b[0m                 \u001b[0;32mreturn\u001b[0m \u001b[0;32mFalse\u001b[0m\u001b[0;34m\u001b[0m\u001b[0m\n\u001b[1;32m    624\u001b[0m             \u001b[0;32melse\u001b[0m\u001b[0;34m:\u001b[0m\u001b[0;34m\u001b[0m\u001b[0m\n\u001b[0;32m--> 625\u001b[0;31m                 \u001b[0mself\u001b[0m\u001b[0;34m.\u001b[0m\u001b[0m_dispatch\u001b[0m\u001b[0;34m(\u001b[0m\u001b[0mtasks\u001b[0m\u001b[0;34m)\u001b[0m\u001b[0;34m\u001b[0m\u001b[0m\n\u001b[0m\u001b[1;32m    626\u001b[0m                 \u001b[0;32mreturn\u001b[0m \u001b[0;32mTrue\u001b[0m\u001b[0;34m\u001b[0m\u001b[0m\n\u001b[1;32m    627\u001b[0m \u001b[0;34m\u001b[0m\u001b[0m\n",
      "\u001b[0;32m/Users/andysun/anaconda/lib/python3.5/site-packages/sklearn/externals/joblib/parallel.py\u001b[0m in \u001b[0;36m_dispatch\u001b[0;34m(self, batch)\u001b[0m\n\u001b[1;32m    586\u001b[0m         \u001b[0mdispatch_timestamp\u001b[0m \u001b[0;34m=\u001b[0m \u001b[0mtime\u001b[0m\u001b[0;34m.\u001b[0m\u001b[0mtime\u001b[0m\u001b[0;34m(\u001b[0m\u001b[0;34m)\u001b[0m\u001b[0;34m\u001b[0m\u001b[0m\n\u001b[1;32m    587\u001b[0m         \u001b[0mcb\u001b[0m \u001b[0;34m=\u001b[0m \u001b[0mBatchCompletionCallBack\u001b[0m\u001b[0;34m(\u001b[0m\u001b[0mdispatch_timestamp\u001b[0m\u001b[0;34m,\u001b[0m \u001b[0mlen\u001b[0m\u001b[0;34m(\u001b[0m\u001b[0mbatch\u001b[0m\u001b[0;34m)\u001b[0m\u001b[0;34m,\u001b[0m \u001b[0mself\u001b[0m\u001b[0;34m)\u001b[0m\u001b[0;34m\u001b[0m\u001b[0m\n\u001b[0;32m--> 588\u001b[0;31m         \u001b[0mjob\u001b[0m \u001b[0;34m=\u001b[0m \u001b[0mself\u001b[0m\u001b[0;34m.\u001b[0m\u001b[0m_backend\u001b[0m\u001b[0;34m.\u001b[0m\u001b[0mapply_async\u001b[0m\u001b[0;34m(\u001b[0m\u001b[0mbatch\u001b[0m\u001b[0;34m,\u001b[0m \u001b[0mcallback\u001b[0m\u001b[0;34m=\u001b[0m\u001b[0mcb\u001b[0m\u001b[0;34m)\u001b[0m\u001b[0;34m\u001b[0m\u001b[0m\n\u001b[0m\u001b[1;32m    589\u001b[0m         \u001b[0mself\u001b[0m\u001b[0;34m.\u001b[0m\u001b[0m_jobs\u001b[0m\u001b[0;34m.\u001b[0m\u001b[0mappend\u001b[0m\u001b[0;34m(\u001b[0m\u001b[0mjob\u001b[0m\u001b[0;34m)\u001b[0m\u001b[0;34m\u001b[0m\u001b[0m\n\u001b[1;32m    590\u001b[0m \u001b[0;34m\u001b[0m\u001b[0m\n",
      "\u001b[0;32m/Users/andysun/anaconda/lib/python3.5/site-packages/sklearn/externals/joblib/_parallel_backends.py\u001b[0m in \u001b[0;36mapply_async\u001b[0;34m(self, func, callback)\u001b[0m\n\u001b[1;32m    109\u001b[0m     \u001b[0;32mdef\u001b[0m \u001b[0mapply_async\u001b[0m\u001b[0;34m(\u001b[0m\u001b[0mself\u001b[0m\u001b[0;34m,\u001b[0m \u001b[0mfunc\u001b[0m\u001b[0;34m,\u001b[0m \u001b[0mcallback\u001b[0m\u001b[0;34m=\u001b[0m\u001b[0;32mNone\u001b[0m\u001b[0;34m)\u001b[0m\u001b[0;34m:\u001b[0m\u001b[0;34m\u001b[0m\u001b[0m\n\u001b[1;32m    110\u001b[0m         \u001b[0;34m\"\"\"Schedule a func to be run\"\"\"\u001b[0m\u001b[0;34m\u001b[0m\u001b[0m\n\u001b[0;32m--> 111\u001b[0;31m         \u001b[0mresult\u001b[0m \u001b[0;34m=\u001b[0m \u001b[0mImmediateResult\u001b[0m\u001b[0;34m(\u001b[0m\u001b[0mfunc\u001b[0m\u001b[0;34m)\u001b[0m\u001b[0;34m\u001b[0m\u001b[0m\n\u001b[0m\u001b[1;32m    112\u001b[0m         \u001b[0;32mif\u001b[0m \u001b[0mcallback\u001b[0m\u001b[0;34m:\u001b[0m\u001b[0;34m\u001b[0m\u001b[0m\n\u001b[1;32m    113\u001b[0m             \u001b[0mcallback\u001b[0m\u001b[0;34m(\u001b[0m\u001b[0mresult\u001b[0m\u001b[0;34m)\u001b[0m\u001b[0;34m\u001b[0m\u001b[0m\n",
      "\u001b[0;32m/Users/andysun/anaconda/lib/python3.5/site-packages/sklearn/externals/joblib/_parallel_backends.py\u001b[0m in \u001b[0;36m__init__\u001b[0;34m(self, batch)\u001b[0m\n\u001b[1;32m    330\u001b[0m         \u001b[0;31m# Don't delay the application, to avoid keeping the input\u001b[0m\u001b[0;34m\u001b[0m\u001b[0;34m\u001b[0m\u001b[0m\n\u001b[1;32m    331\u001b[0m         \u001b[0;31m# arguments in memory\u001b[0m\u001b[0;34m\u001b[0m\u001b[0;34m\u001b[0m\u001b[0m\n\u001b[0;32m--> 332\u001b[0;31m         \u001b[0mself\u001b[0m\u001b[0;34m.\u001b[0m\u001b[0mresults\u001b[0m \u001b[0;34m=\u001b[0m \u001b[0mbatch\u001b[0m\u001b[0;34m(\u001b[0m\u001b[0;34m)\u001b[0m\u001b[0;34m\u001b[0m\u001b[0m\n\u001b[0m\u001b[1;32m    333\u001b[0m \u001b[0;34m\u001b[0m\u001b[0m\n\u001b[1;32m    334\u001b[0m     \u001b[0;32mdef\u001b[0m \u001b[0mget\u001b[0m\u001b[0;34m(\u001b[0m\u001b[0mself\u001b[0m\u001b[0;34m)\u001b[0m\u001b[0;34m:\u001b[0m\u001b[0;34m\u001b[0m\u001b[0m\n",
      "\u001b[0;32m/Users/andysun/anaconda/lib/python3.5/site-packages/sklearn/externals/joblib/parallel.py\u001b[0m in \u001b[0;36m__call__\u001b[0;34m(self)\u001b[0m\n\u001b[1;32m    129\u001b[0m \u001b[0;34m\u001b[0m\u001b[0m\n\u001b[1;32m    130\u001b[0m     \u001b[0;32mdef\u001b[0m \u001b[0m__call__\u001b[0m\u001b[0;34m(\u001b[0m\u001b[0mself\u001b[0m\u001b[0;34m)\u001b[0m\u001b[0;34m:\u001b[0m\u001b[0;34m\u001b[0m\u001b[0m\n\u001b[0;32m--> 131\u001b[0;31m         \u001b[0;32mreturn\u001b[0m \u001b[0;34m[\u001b[0m\u001b[0mfunc\u001b[0m\u001b[0;34m(\u001b[0m\u001b[0;34m*\u001b[0m\u001b[0margs\u001b[0m\u001b[0;34m,\u001b[0m \u001b[0;34m**\u001b[0m\u001b[0mkwargs\u001b[0m\u001b[0;34m)\u001b[0m \u001b[0;32mfor\u001b[0m \u001b[0mfunc\u001b[0m\u001b[0;34m,\u001b[0m \u001b[0margs\u001b[0m\u001b[0;34m,\u001b[0m \u001b[0mkwargs\u001b[0m \u001b[0;32min\u001b[0m \u001b[0mself\u001b[0m\u001b[0;34m.\u001b[0m\u001b[0mitems\u001b[0m\u001b[0;34m]\u001b[0m\u001b[0;34m\u001b[0m\u001b[0m\n\u001b[0m\u001b[1;32m    132\u001b[0m \u001b[0;34m\u001b[0m\u001b[0m\n\u001b[1;32m    133\u001b[0m     \u001b[0;32mdef\u001b[0m \u001b[0m__len__\u001b[0m\u001b[0;34m(\u001b[0m\u001b[0mself\u001b[0m\u001b[0;34m)\u001b[0m\u001b[0;34m:\u001b[0m\u001b[0;34m\u001b[0m\u001b[0m\n",
      "\u001b[0;32m/Users/andysun/anaconda/lib/python3.5/site-packages/sklearn/externals/joblib/parallel.py\u001b[0m in \u001b[0;36m<listcomp>\u001b[0;34m(.0)\u001b[0m\n\u001b[1;32m    129\u001b[0m \u001b[0;34m\u001b[0m\u001b[0m\n\u001b[1;32m    130\u001b[0m     \u001b[0;32mdef\u001b[0m \u001b[0m__call__\u001b[0m\u001b[0;34m(\u001b[0m\u001b[0mself\u001b[0m\u001b[0;34m)\u001b[0m\u001b[0;34m:\u001b[0m\u001b[0;34m\u001b[0m\u001b[0m\n\u001b[0;32m--> 131\u001b[0;31m         \u001b[0;32mreturn\u001b[0m \u001b[0;34m[\u001b[0m\u001b[0mfunc\u001b[0m\u001b[0;34m(\u001b[0m\u001b[0;34m*\u001b[0m\u001b[0margs\u001b[0m\u001b[0;34m,\u001b[0m \u001b[0;34m**\u001b[0m\u001b[0mkwargs\u001b[0m\u001b[0;34m)\u001b[0m \u001b[0;32mfor\u001b[0m \u001b[0mfunc\u001b[0m\u001b[0;34m,\u001b[0m \u001b[0margs\u001b[0m\u001b[0;34m,\u001b[0m \u001b[0mkwargs\u001b[0m \u001b[0;32min\u001b[0m \u001b[0mself\u001b[0m\u001b[0;34m.\u001b[0m\u001b[0mitems\u001b[0m\u001b[0;34m]\u001b[0m\u001b[0;34m\u001b[0m\u001b[0m\n\u001b[0m\u001b[1;32m    132\u001b[0m \u001b[0;34m\u001b[0m\u001b[0m\n\u001b[1;32m    133\u001b[0m     \u001b[0;32mdef\u001b[0m \u001b[0m__len__\u001b[0m\u001b[0;34m(\u001b[0m\u001b[0mself\u001b[0m\u001b[0;34m)\u001b[0m\u001b[0;34m:\u001b[0m\u001b[0;34m\u001b[0m\u001b[0m\n",
      "\u001b[0;32m/Users/andysun/anaconda/lib/python3.5/site-packages/sklearn/model_selection/_validation.py\u001b[0m in \u001b[0;36m_fit_and_score\u001b[0;34m(estimator, X, y, scorer, train, test, verbose, parameters, fit_params, return_train_score, return_parameters, return_n_test_samples, return_times, error_score)\u001b[0m\n\u001b[1;32m    456\u001b[0m             \u001b[0mestimator\u001b[0m\u001b[0;34m.\u001b[0m\u001b[0mfit\u001b[0m\u001b[0;34m(\u001b[0m\u001b[0mX_train\u001b[0m\u001b[0;34m,\u001b[0m \u001b[0;34m**\u001b[0m\u001b[0mfit_params\u001b[0m\u001b[0;34m)\u001b[0m\u001b[0;34m\u001b[0m\u001b[0m\n\u001b[1;32m    457\u001b[0m         \u001b[0;32melse\u001b[0m\u001b[0;34m:\u001b[0m\u001b[0;34m\u001b[0m\u001b[0m\n\u001b[0;32m--> 458\u001b[0;31m             \u001b[0mestimator\u001b[0m\u001b[0;34m.\u001b[0m\u001b[0mfit\u001b[0m\u001b[0;34m(\u001b[0m\u001b[0mX_train\u001b[0m\u001b[0;34m,\u001b[0m \u001b[0my_train\u001b[0m\u001b[0;34m,\u001b[0m \u001b[0;34m**\u001b[0m\u001b[0mfit_params\u001b[0m\u001b[0;34m)\u001b[0m\u001b[0;34m\u001b[0m\u001b[0m\n\u001b[0m\u001b[1;32m    459\u001b[0m \u001b[0;34m\u001b[0m\u001b[0m\n\u001b[1;32m    460\u001b[0m     \u001b[0;32mexcept\u001b[0m \u001b[0mException\u001b[0m \u001b[0;32mas\u001b[0m \u001b[0me\u001b[0m\u001b[0;34m:\u001b[0m\u001b[0;34m\u001b[0m\u001b[0m\n",
      "\u001b[0;32m/Users/andysun/anaconda/lib/python3.5/site-packages/sklearn/neural_network/multilayer_perceptron.py\u001b[0m in \u001b[0;36mfit\u001b[0;34m(self, X, y)\u001b[0m\n\u001b[1;32m    971\u001b[0m         \"\"\"\n\u001b[1;32m    972\u001b[0m         return self._fit(X, y, incremental=(self.warm_start and\n\u001b[0;32m--> 973\u001b[0;31m                                             hasattr(self, \"classes_\")))\n\u001b[0m\u001b[1;32m    974\u001b[0m \u001b[0;34m\u001b[0m\u001b[0m\n\u001b[1;32m    975\u001b[0m     \u001b[0;34m@\u001b[0m\u001b[0mproperty\u001b[0m\u001b[0;34m\u001b[0m\u001b[0m\n",
      "\u001b[0;32m/Users/andysun/anaconda/lib/python3.5/site-packages/sklearn/neural_network/multilayer_perceptron.py\u001b[0m in \u001b[0;36m_fit\u001b[0;34m(self, X, y, incremental)\u001b[0m\n\u001b[1;32m    381\u001b[0m         \u001b[0;32melif\u001b[0m \u001b[0mself\u001b[0m\u001b[0;34m.\u001b[0m\u001b[0msolver\u001b[0m \u001b[0;34m==\u001b[0m \u001b[0;34m'lbfgs'\u001b[0m\u001b[0;34m:\u001b[0m\u001b[0;34m\u001b[0m\u001b[0m\n\u001b[1;32m    382\u001b[0m             self._fit_lbfgs(X, y, activations, deltas, coef_grads,\n\u001b[0;32m--> 383\u001b[0;31m                             intercept_grads, layer_units)\n\u001b[0m\u001b[1;32m    384\u001b[0m         \u001b[0;32mreturn\u001b[0m \u001b[0mself\u001b[0m\u001b[0;34m\u001b[0m\u001b[0m\n\u001b[1;32m    385\u001b[0m \u001b[0;34m\u001b[0m\u001b[0m\n",
      "\u001b[0;32m/Users/andysun/anaconda/lib/python3.5/site-packages/sklearn/neural_network/multilayer_perceptron.py\u001b[0m in \u001b[0;36m_fit_lbfgs\u001b[0;34m(self, X, y, activations, deltas, coef_grads, intercept_grads, layer_units)\u001b[0m\n\u001b[1;32m    468\u001b[0m             \u001b[0miprint\u001b[0m\u001b[0;34m=\u001b[0m\u001b[0miprint\u001b[0m\u001b[0;34m,\u001b[0m\u001b[0;34m\u001b[0m\u001b[0m\n\u001b[1;32m    469\u001b[0m             \u001b[0mpgtol\u001b[0m\u001b[0;34m=\u001b[0m\u001b[0mself\u001b[0m\u001b[0;34m.\u001b[0m\u001b[0mtol\u001b[0m\u001b[0;34m,\u001b[0m\u001b[0;34m\u001b[0m\u001b[0m\n\u001b[0;32m--> 470\u001b[0;31m             args=(X, y, activations, deltas, coef_grads, intercept_grads))\n\u001b[0m\u001b[1;32m    471\u001b[0m \u001b[0;34m\u001b[0m\u001b[0m\n\u001b[1;32m    472\u001b[0m         \u001b[0mself\u001b[0m\u001b[0;34m.\u001b[0m\u001b[0m_unpack\u001b[0m\u001b[0;34m(\u001b[0m\u001b[0moptimal_parameters\u001b[0m\u001b[0;34m)\u001b[0m\u001b[0;34m\u001b[0m\u001b[0m\n",
      "\u001b[0;32m/Users/andysun/anaconda/lib/python3.5/site-packages/scipy/optimize/lbfgsb.py\u001b[0m in \u001b[0;36mfmin_l_bfgs_b\u001b[0;34m(func, x0, fprime, args, approx_grad, bounds, m, factr, pgtol, epsilon, iprint, maxfun, maxiter, disp, callback, maxls)\u001b[0m\n\u001b[1;32m    197\u001b[0m \u001b[0;34m\u001b[0m\u001b[0m\n\u001b[1;32m    198\u001b[0m     res = _minimize_lbfgsb(fun, x0, args=args, jac=jac, bounds=bounds,\n\u001b[0;32m--> 199\u001b[0;31m                            **opts)\n\u001b[0m\u001b[1;32m    200\u001b[0m     d = {'grad': res['jac'],\n\u001b[1;32m    201\u001b[0m          \u001b[0;34m'task'\u001b[0m\u001b[0;34m:\u001b[0m \u001b[0mres\u001b[0m\u001b[0;34m[\u001b[0m\u001b[0;34m'message'\u001b[0m\u001b[0;34m]\u001b[0m\u001b[0;34m,\u001b[0m\u001b[0;34m\u001b[0m\u001b[0m\n",
      "\u001b[0;32m/Users/andysun/anaconda/lib/python3.5/site-packages/scipy/optimize/lbfgsb.py\u001b[0m in \u001b[0;36m_minimize_lbfgsb\u001b[0;34m(fun, x0, args, jac, bounds, disp, maxcor, ftol, gtol, eps, maxfun, maxiter, iprint, callback, maxls, **unknown_options)\u001b[0m\n\u001b[1;32m    333\u001b[0m             \u001b[0;31m# until the completion of the current minimization iteration.\u001b[0m\u001b[0;34m\u001b[0m\u001b[0;34m\u001b[0m\u001b[0m\n\u001b[1;32m    334\u001b[0m             \u001b[0;31m# Overwrite f and g:\u001b[0m\u001b[0;34m\u001b[0m\u001b[0;34m\u001b[0m\u001b[0m\n\u001b[0;32m--> 335\u001b[0;31m             \u001b[0mf\u001b[0m\u001b[0;34m,\u001b[0m \u001b[0mg\u001b[0m \u001b[0;34m=\u001b[0m \u001b[0mfunc_and_grad\u001b[0m\u001b[0;34m(\u001b[0m\u001b[0mx\u001b[0m\u001b[0;34m)\u001b[0m\u001b[0;34m\u001b[0m\u001b[0m\n\u001b[0m\u001b[1;32m    336\u001b[0m         \u001b[0;32melif\u001b[0m \u001b[0mtask_str\u001b[0m\u001b[0;34m.\u001b[0m\u001b[0mstartswith\u001b[0m\u001b[0;34m(\u001b[0m\u001b[0;34mb'NEW_X'\u001b[0m\u001b[0;34m)\u001b[0m\u001b[0;34m:\u001b[0m\u001b[0;34m\u001b[0m\u001b[0m\n\u001b[1;32m    337\u001b[0m             \u001b[0;31m# new iteration\u001b[0m\u001b[0;34m\u001b[0m\u001b[0;34m\u001b[0m\u001b[0m\n",
      "\u001b[0;32m/Users/andysun/anaconda/lib/python3.5/site-packages/scipy/optimize/lbfgsb.py\u001b[0m in \u001b[0;36mfunc_and_grad\u001b[0;34m(x)\u001b[0m\n\u001b[1;32m    283\u001b[0m     \u001b[0;32melse\u001b[0m\u001b[0;34m:\u001b[0m\u001b[0;34m\u001b[0m\u001b[0m\n\u001b[1;32m    284\u001b[0m         \u001b[0;32mdef\u001b[0m \u001b[0mfunc_and_grad\u001b[0m\u001b[0;34m(\u001b[0m\u001b[0mx\u001b[0m\u001b[0;34m)\u001b[0m\u001b[0;34m:\u001b[0m\u001b[0;34m\u001b[0m\u001b[0m\n\u001b[0;32m--> 285\u001b[0;31m             \u001b[0mf\u001b[0m \u001b[0;34m=\u001b[0m \u001b[0mfun\u001b[0m\u001b[0;34m(\u001b[0m\u001b[0mx\u001b[0m\u001b[0;34m,\u001b[0m \u001b[0;34m*\u001b[0m\u001b[0margs\u001b[0m\u001b[0;34m)\u001b[0m\u001b[0;34m\u001b[0m\u001b[0m\n\u001b[0m\u001b[1;32m    286\u001b[0m             \u001b[0mg\u001b[0m \u001b[0;34m=\u001b[0m \u001b[0mjac\u001b[0m\u001b[0;34m(\u001b[0m\u001b[0mx\u001b[0m\u001b[0;34m,\u001b[0m \u001b[0;34m*\u001b[0m\u001b[0margs\u001b[0m\u001b[0;34m)\u001b[0m\u001b[0;34m\u001b[0m\u001b[0m\n\u001b[1;32m    287\u001b[0m             \u001b[0;32mreturn\u001b[0m \u001b[0mf\u001b[0m\u001b[0;34m,\u001b[0m \u001b[0mg\u001b[0m\u001b[0;34m\u001b[0m\u001b[0m\n",
      "\u001b[0;32m/Users/andysun/anaconda/lib/python3.5/site-packages/scipy/optimize/optimize.py\u001b[0m in \u001b[0;36mfunction_wrapper\u001b[0;34m(*wrapper_args)\u001b[0m\n\u001b[1;32m    291\u001b[0m     \u001b[0;32mdef\u001b[0m \u001b[0mfunction_wrapper\u001b[0m\u001b[0;34m(\u001b[0m\u001b[0;34m*\u001b[0m\u001b[0mwrapper_args\u001b[0m\u001b[0;34m)\u001b[0m\u001b[0;34m:\u001b[0m\u001b[0;34m\u001b[0m\u001b[0m\n\u001b[1;32m    292\u001b[0m         \u001b[0mncalls\u001b[0m\u001b[0;34m[\u001b[0m\u001b[0;36m0\u001b[0m\u001b[0;34m]\u001b[0m \u001b[0;34m+=\u001b[0m \u001b[0;36m1\u001b[0m\u001b[0;34m\u001b[0m\u001b[0m\n\u001b[0;32m--> 293\u001b[0;31m         \u001b[0;32mreturn\u001b[0m \u001b[0mfunction\u001b[0m\u001b[0;34m(\u001b[0m\u001b[0;34m*\u001b[0m\u001b[0;34m(\u001b[0m\u001b[0mwrapper_args\u001b[0m \u001b[0;34m+\u001b[0m \u001b[0margs\u001b[0m\u001b[0;34m)\u001b[0m\u001b[0;34m)\u001b[0m\u001b[0;34m\u001b[0m\u001b[0m\n\u001b[0m\u001b[1;32m    294\u001b[0m \u001b[0;34m\u001b[0m\u001b[0m\n\u001b[1;32m    295\u001b[0m     \u001b[0;32mreturn\u001b[0m \u001b[0mncalls\u001b[0m\u001b[0;34m,\u001b[0m \u001b[0mfunction_wrapper\u001b[0m\u001b[0;34m\u001b[0m\u001b[0m\n",
      "\u001b[0;32m/Users/andysun/anaconda/lib/python3.5/site-packages/scipy/optimize/optimize.py\u001b[0m in \u001b[0;36m__call__\u001b[0;34m(self, x, *args)\u001b[0m\n\u001b[1;32m     61\u001b[0m     \u001b[0;32mdef\u001b[0m \u001b[0m__call__\u001b[0m\u001b[0;34m(\u001b[0m\u001b[0mself\u001b[0m\u001b[0;34m,\u001b[0m \u001b[0mx\u001b[0m\u001b[0;34m,\u001b[0m \u001b[0;34m*\u001b[0m\u001b[0margs\u001b[0m\u001b[0;34m)\u001b[0m\u001b[0;34m:\u001b[0m\u001b[0;34m\u001b[0m\u001b[0m\n\u001b[1;32m     62\u001b[0m         \u001b[0mself\u001b[0m\u001b[0;34m.\u001b[0m\u001b[0mx\u001b[0m \u001b[0;34m=\u001b[0m \u001b[0mnumpy\u001b[0m\u001b[0;34m.\u001b[0m\u001b[0masarray\u001b[0m\u001b[0;34m(\u001b[0m\u001b[0mx\u001b[0m\u001b[0;34m)\u001b[0m\u001b[0;34m.\u001b[0m\u001b[0mcopy\u001b[0m\u001b[0;34m(\u001b[0m\u001b[0;34m)\u001b[0m\u001b[0;34m\u001b[0m\u001b[0m\n\u001b[0;32m---> 63\u001b[0;31m         \u001b[0mfg\u001b[0m \u001b[0;34m=\u001b[0m \u001b[0mself\u001b[0m\u001b[0;34m.\u001b[0m\u001b[0mfun\u001b[0m\u001b[0;34m(\u001b[0m\u001b[0mx\u001b[0m\u001b[0;34m,\u001b[0m \u001b[0;34m*\u001b[0m\u001b[0margs\u001b[0m\u001b[0;34m)\u001b[0m\u001b[0;34m\u001b[0m\u001b[0m\n\u001b[0m\u001b[1;32m     64\u001b[0m         \u001b[0mself\u001b[0m\u001b[0;34m.\u001b[0m\u001b[0mjac\u001b[0m \u001b[0;34m=\u001b[0m \u001b[0mfg\u001b[0m\u001b[0;34m[\u001b[0m\u001b[0;36m1\u001b[0m\u001b[0;34m]\u001b[0m\u001b[0;34m\u001b[0m\u001b[0m\n\u001b[1;32m     65\u001b[0m         \u001b[0;32mreturn\u001b[0m \u001b[0mfg\u001b[0m\u001b[0;34m[\u001b[0m\u001b[0;36m0\u001b[0m\u001b[0;34m]\u001b[0m\u001b[0;34m\u001b[0m\u001b[0m\n",
      "\u001b[0;32m/Users/andysun/anaconda/lib/python3.5/site-packages/sklearn/neural_network/multilayer_perceptron.py\u001b[0m in \u001b[0;36m_loss_grad_lbfgs\u001b[0;34m(self, packed_coef_inter, X, y, activations, deltas, coef_grads, intercept_grads)\u001b[0m\n\u001b[1;32m    177\u001b[0m         \u001b[0mself\u001b[0m\u001b[0;34m.\u001b[0m\u001b[0m_unpack\u001b[0m\u001b[0;34m(\u001b[0m\u001b[0mpacked_coef_inter\u001b[0m\u001b[0;34m)\u001b[0m\u001b[0;34m\u001b[0m\u001b[0m\n\u001b[1;32m    178\u001b[0m         loss, coef_grads, intercept_grads = self._backprop(\n\u001b[0;32m--> 179\u001b[0;31m             X, y, activations, deltas, coef_grads, intercept_grads)\n\u001b[0m\u001b[1;32m    180\u001b[0m         \u001b[0mself\u001b[0m\u001b[0;34m.\u001b[0m\u001b[0mn_iter_\u001b[0m \u001b[0;34m+=\u001b[0m \u001b[0;36m1\u001b[0m\u001b[0;34m\u001b[0m\u001b[0m\n\u001b[1;32m    181\u001b[0m         \u001b[0mgrad\u001b[0m \u001b[0;34m=\u001b[0m \u001b[0m_pack\u001b[0m\u001b[0;34m(\u001b[0m\u001b[0mcoef_grads\u001b[0m\u001b[0;34m,\u001b[0m \u001b[0mintercept_grads\u001b[0m\u001b[0;34m)\u001b[0m\u001b[0;34m\u001b[0m\u001b[0m\n",
      "\u001b[0;32m/Users/andysun/anaconda/lib/python3.5/site-packages/sklearn/neural_network/multilayer_perceptron.py\u001b[0m in \u001b[0;36m_backprop\u001b[0;34m(self, X, y, activations, deltas, coef_grads, intercept_grads)\u001b[0m\n\u001b[1;32m    222\u001b[0m \u001b[0;34m\u001b[0m\u001b[0m\n\u001b[1;32m    223\u001b[0m         \u001b[0;31m# Forward propagate\u001b[0m\u001b[0;34m\u001b[0m\u001b[0;34m\u001b[0m\u001b[0m\n\u001b[0;32m--> 224\u001b[0;31m         \u001b[0mactivations\u001b[0m \u001b[0;34m=\u001b[0m \u001b[0mself\u001b[0m\u001b[0;34m.\u001b[0m\u001b[0m_forward_pass\u001b[0m\u001b[0;34m(\u001b[0m\u001b[0mactivations\u001b[0m\u001b[0;34m)\u001b[0m\u001b[0;34m\u001b[0m\u001b[0m\n\u001b[0m\u001b[1;32m    225\u001b[0m \u001b[0;34m\u001b[0m\u001b[0m\n\u001b[1;32m    226\u001b[0m         \u001b[0;31m# Get loss\u001b[0m\u001b[0;34m\u001b[0m\u001b[0;34m\u001b[0m\u001b[0m\n",
      "\u001b[0;32m/Users/andysun/anaconda/lib/python3.5/site-packages/sklearn/neural_network/multilayer_perceptron.py\u001b[0m in \u001b[0;36m_forward_pass\u001b[0;34m(self, activations)\u001b[0m\n\u001b[1;32m    104\u001b[0m             activations[i + 1] = safe_sparse_dot(activations[i],\n\u001b[1;32m    105\u001b[0m                                                  self.coefs_[i])\n\u001b[0;32m--> 106\u001b[0;31m             \u001b[0mactivations\u001b[0m\u001b[0;34m[\u001b[0m\u001b[0mi\u001b[0m \u001b[0;34m+\u001b[0m \u001b[0;36m1\u001b[0m\u001b[0;34m]\u001b[0m \u001b[0;34m+=\u001b[0m \u001b[0mself\u001b[0m\u001b[0;34m.\u001b[0m\u001b[0mintercepts_\u001b[0m\u001b[0;34m[\u001b[0m\u001b[0mi\u001b[0m\u001b[0;34m]\u001b[0m\u001b[0;34m\u001b[0m\u001b[0m\n\u001b[0m\u001b[1;32m    107\u001b[0m \u001b[0;34m\u001b[0m\u001b[0m\n\u001b[1;32m    108\u001b[0m             \u001b[0;31m# For the hidden layers\u001b[0m\u001b[0;34m\u001b[0m\u001b[0;34m\u001b[0m\u001b[0m\n",
      "\u001b[0;31mKeyboardInterrupt\u001b[0m: "
     ]
    }
   ],
   "source": [
    "clf = MLPClassifier()\n",
    "parameters = {'alpha':[.1,1,5],'hidden_layer_sizes': [x for x in itertools.product((7,13,50),repeat=2)],'learning_rate':['constant','invscaling','adaptive'],'solver':['lbfgs','sgd','adam']}\n",
    "clf = GridSearchCV(clf, parameters, cv=5,scoring = 'f1')\n",
    "clf = clf.fit(train[0],train[1])\n",
    "score = clf.best_estimator_.score(test[0],test[1])\n",
    "print(clf.best_params_)\n",
    "print('Score: ',score)\n",
    "cm = confusion_matrix(test[1],clf.predict(test[0]))\n",
    "print('Confusion:\\n',cm)\n",
    "print(precision_recall_fscore_support(test[1],clf.best_estimator_.predict(test[0]), average='binary'))\n",
    "print('precision      recall        fscore')\n",
    "decision_tree_scores = clf.cv_results_\n",
    "dt = clf\n",
    "\n",
    "a = learning_curve(dt.best_estimator_,train[0],train[1],scoring = 'f1',cv = 5,train_sizes = np.linspace(0.1,1,5))\n",
    "plt.plot(a[0],np.mean(a[2],axis = 1))\n",
    "plt.plot(a[0],np.mean(a[1],axis = 1))\n",
    "plt.ylim([0,1])\n",
    "plt.ylabel('F1 Score')\n",
    "plt.xlabel('Training Size')\n",
    "plt.legend(['Testing','Training'])\n",
    "plt.show()"
   ]
  },
  {
   "cell_type": "code",
   "execution_count": 62,
   "metadata": {},
   "outputs": [
    {
     "name": "stdout",
     "output_type": "stream",
     "text": [
      "0.54\n",
      "Confusion:\n",
      " [[197   3]\n",
      " [181  19]]\n",
      "(0.8636363636363636, 0.095, 0.17117117117117117, None)\n"
     ]
    }
   ],
   "source": [
    "bad_data = []\n",
    "label = []\n",
    "\n",
    "with open('bad_domains.txt','r') as phishing_file:\n",
    "    for counter,line in enumerate(phishing_file):\n",
    "        if(counter < 200):\n",
    "            bad_data.append(line.rstrip('\\n'))\n",
    "            label.append(1)\n",
    "\n",
    "with open('top500.csv','r') as phishing_file:\n",
    "    for counter,line in enumerate(phishing_file):\n",
    "        if(counter < 200):\n",
    "            bad_data.append(line.rstrip('\\n').split(',')[1])\n",
    "            label.append(-1)\n",
    "        \n",
    "td = []\n",
    "for c,v in enumerate(bad_data):\n",
    "    f = getFeatures(v)\n",
    "    if(c < 200):\n",
    "        f[-1] = -1\n",
    "    td.append(f)\n",
    "    print(c,end='\\r')\n",
    "    \n",
    "td = np.array(td)\n",
    "score = clf.best_estimator_.score(td,label)\n",
    "print(score)\n",
    "\n",
    "cm = confusion_matrix(label,clf.predict(td))\n",
    "print('Confusion:\\n',cm)\n",
    "\n",
    "print(precision_recall_fscore_support(label,clf.best_estimator_.predict(td), average='binary'))"
   ]
  },
  {
   "cell_type": "code",
   "execution_count": 46,
   "metadata": {},
   "outputs": [
    {
     "name": "stdout",
     "output_type": "stream",
     "text": [
      "(0.0, 0.0, 0.0, None)\n",
      "[1, 1, 1, 1, 1, 1, 1, 1, 1, 1, 1, 1, 1, 1, 1, 1, 1, 1, 1, 1, -1, -1, -1, -1, -1, -1, -1, -1, -1, -1, -1, -1, -1, -1, -1, -1, -1, -1, -1, -1] [-1. -1. -1. -1. -1. -1. -1. -1. -1. -1. -1. -1. -1. -1. -1. -1. -1. -1.\n",
      " -1. -1. -1. -1. -1. -1. -1. -1. -1. -1. -1. -1. -1. -1. -1. -1. -1. -1.\n",
      " -1. -1. -1. -1.]\n"
     ]
    }
   ],
   "source": [
    "print(precision_recall_fscore_support(label,-1*np.ones(len(label)), average='binary'))\n",
    "print(label,-1*np.ones(len(label)))"
   ]
  },
  {
   "cell_type": "code",
   "execution_count": 51,
   "metadata": {},
   "outputs": [
    {
     "name": "stdout",
     "output_type": "stream",
     "text": [
      "[[-1.  1.  1.  1. -1. -1. -1. -1. -1.  1. -1. -1.]\n",
      " [ 1.  1.  1.  1.  1. -1.  0.  1. -1.  1. -1.  1.]\n",
      " [ 1.  0.  1.  1.  1. -1. -1. -1. -1.  1.  1. -1.]\n",
      " [ 1.  0.  1.  1.  1. -1. -1. -1. -1.  1. -1.  1.]\n",
      " [ 1.  0. -1.  1.  1. -1.  1.  1.  1.  1. -1.  1.]\n",
      " [-1.  0. -1.  1. -1. -1.  1.  1. -1.  1.  1. -1.]\n",
      " [ 1.  0. -1.  1.  1. -1. -1. -1.  1.  1.  1. -1.]\n",
      " [ 1.  0.  1.  1.  1. -1. -1. -1. -1.  1. -1.  1.]\n",
      " [ 1.  0. -1.  1.  1. -1.  1.  1. -1.  1.  1.  1.]\n",
      " [ 1.  1. -1.  1.  1. -1. -1.  1.  1.  1.  1.  1.]] [-1. -1. -1. -1.  1.  1. -1. -1.  1. -1.]\n"
     ]
    }
   ],
   "source": [
    "print(train[0][0:10],train[1][0:10])"
   ]
  },
  {
   "cell_type": "code",
   "execution_count": 61,
   "metadata": {},
   "outputs": [
    {
     "name": "stdout",
     "output_type": "stream",
     "text": [
      "0.35 -0.64 0.74 0.71 0.74 -0.74 0.04 0.25 0.68 0.82 0.00 0.70 \n",
      "\n",
      "-1.0 -0.995 -1.0 -1.0 -1.0 -0.895 -0.9025 -0.995 -0.995 -0.39 -0.305 0.9 "
     ]
    }
   ],
   "source": [
    "mm = np.mean(train[0],axis = 0)\n",
    "for i in mm:\n",
    "    print('%.2f'%i,end=' ')\n",
    "print('\\n')\n",
    "mm = np.mean(td,axis = 0)\n",
    "for i in mm:\n",
    "    print(i,end=' ')"
   ]
  },
  {
   "cell_type": "code",
   "execution_count": 34,
   "metadata": {},
   "outputs": [
    {
     "name": "stdout",
     "output_type": "stream",
     "text": [
      "amazon.co.uk.security-check.ga\n",
      "[-1 -1 -1 -1 -1  1  1 -1 -1  1  1  1]\n",
      "autosegurancabrasil.com\n",
      "[-1 -1 -1 -1 -1 -1 -1 -1 -1  1  1  1]\n",
      "dadossolicitado-antendimento.sad879.mobi\n",
      "[-1 -1 -1 -1 -1  1  0 -1 -1  1  1  1]\n",
      "hitnrun.com.my\n",
      "[-1 -1 -1 -1 -1 -1 -1 -1 -1  1  1  1]\n",
      "maruthorvattomsrianjaneyatemple.org\n",
      "[-1 -1 -1 -1 -1 -1 -1 -1 -1  1  1  1]\n",
      "paypalsecure-2016.sucurecode524154241.arita.ac.tz\n",
      "[-1 -1 -1 -1 -1  1  1 -1 -1  1  1  1]\n",
      "tei.portal.crockerandwestridge.com\n",
      "[-1 -1 -1 -1 -1 -1  1 -1 -1 -1 -1  1]\n",
      "tonyyeo.com\n",
      "[-1 -1 -1 -1 -1 -1 -1 -1 -1  1  1  1]\n",
      "update-apple.com.betawihosting.net\n",
      "[-1 -1 -1 -1 -1  1  1 -1 -1  1  1  1]\n",
      "usaa.com-sec-inet-auth-logon-ent-logon-logon-redirectjsp.chrischadwick.com.au\n",
      "[-1  1 -1 -1 -1  1  1 -1 -1  1  1  1]\n",
      "windrushvalleyjoinery.co.uk\n",
      "[-1 -1 -1 -1 -1 -1 -1 -1 -1 -1 -1  1]\n",
      "yhiltd.co.uk\n",
      "[-1 -1 -1 -1 -1 -1 -1 -1 -1 -1 -1  1]\n",
      "dicrophani.com\n",
      "[-1 -1 -1 -1 -1 -1 -1 -1 -1 -1 -1  1]\n",
      "airtyrant.com\n",
      "[-1 -1 -1 -1 -1 -1 -1 -1 -1 -1 -1  1]\n",
      "dionneg.com\n",
      "[-1 -1 -1 -1 -1 -1 -1 -1 -1 -1 -1  1]\n",
      "vipprojects.cn\n",
      "[-1 -1 -1 -1 -1 -1 -1 -1 -1  1  1  1]\n",
      "hhj3.cn\n",
      "[-1 -1 -1 -1 -1 -1 -1 -1 -1  1  1  1]\n",
      "hryspap.cn\n",
      "[-1 -1 -1 -1 -1 -1 -1 -1 -1  1  1  1]\n",
      "iebar.t2t2.com\n",
      "[-1 -1 -1 -1 -1 -1  0 -1 -1 -1 -1  1]\n",
      "bakuzbuq.ru\n",
      "[-1 -1 -1 -1 -1 -1 -1 -1 -1  1  1  1]\n"
     ]
    }
   ],
   "source": [
    "for i in range(0,20):\n",
    "    print(bad_data[i])\n",
    "    print(td[i])"
   ]
  },
  {
   "cell_type": "code",
   "execution_count": null,
   "metadata": {
    "collapsed": true
   },
   "outputs": [],
   "source": []
  }
 ],
 "metadata": {
  "kernelspec": {
   "display_name": "Python [Root]",
   "language": "python",
   "name": "Python [Root]"
  },
  "language_info": {
   "codemirror_mode": {
    "name": "ipython",
    "version": 3
   },
   "file_extension": ".py",
   "mimetype": "text/x-python",
   "name": "python",
   "nbconvert_exporter": "python",
   "pygments_lexer": "ipython3",
   "version": "3.5.6"
  }
 },
 "nbformat": 4,
 "nbformat_minor": 2
}
